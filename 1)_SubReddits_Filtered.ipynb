{
  "nbformat": 4,
  "nbformat_minor": 0,
  "metadata": {
    "colab": {
      "provenance": [],
      "include_colab_link": true
    },
    "kernelspec": {
      "name": "python3",
      "display_name": "Python 3"
    },
    "language_info": {
      "name": "python"
    }
  },
  "cells": [
    {
      "cell_type": "markdown",
      "metadata": {
        "id": "view-in-github",
        "colab_type": "text"
      },
      "source": [
        "<a href=\"https://colab.research.google.com/github/merve215/dogecoin-sentiment-analysis/blob/main/1)_SubReddits_Filtered.ipynb\" target=\"_parent\"><img src=\"https://colab.research.google.com/assets/colab-badge.svg\" alt=\"Open In Colab\"/></a>"
      ]
    },
    {
      "cell_type": "markdown",
      "source": [
        "# **Starting from cryptocurrency Subreddit **"
      ],
      "metadata": {
        "id": "v9FeC7OKd-Go"
      }
    },
    {
      "cell_type": "code",
      "source": [
        "import pandas as pd\n",
        "\n",
        "# File Path\n",
        "input_file = '/content/drive/MyDrive/Big_Data_Project/SubReddits/cryptocurrency.csv'\n",
        "output_file = '/content/drive/MyDrive/Big_Data_Project/Output/Crypto_doge_related_posts.csv'\n",
        "\n"
      ],
      "metadata": {
        "id": "y3ng89dtZgg_"
      },
      "execution_count": null,
      "outputs": []
    },
    {
      "cell_type": "code",
      "source": [
        "df = pd.read_csv(input_file, header=None)"
      ],
      "metadata": {
        "id": "xpmbR6ZtZtSo"
      },
      "execution_count": null,
      "outputs": []
    },
    {
      "cell_type": "code",
      "source": [
        "# First 5 results\n",
        "print(df.head())"
      ],
      "metadata": {
        "colab": {
          "base_uri": "https://localhost:8080/"
        },
        "id": "uNVvSpajaGrH",
        "outputId": "f512aaf6-324b-4aa1-efeb-a68408eaeaf1"
      },
      "execution_count": null,
      "outputs": [
        {
          "output_type": "stream",
          "name": "stdout",
          "text": [
            "    0           1                                                  2  \\\n",
            "0  26  2020-01-01         daily discussion - january 1, 2020 (gmt+0)   \n",
            "1  56  2020-01-01         monthly skeptics discussion - january 2020   \n",
            "2   1  2020-01-01  xi jinping's china has shown a strong embrace ...   \n",
            "3   1  2020-01-01  #btc bitcoin bull john mcafee has announced an...   \n",
            "4   0  2020-01-01                    adoption comming in hot in 2020   \n",
            "\n",
            "                 3                                                  4  \\\n",
            "0  u/automoderator  https://www.reddit.com/r/cryptocurrency/commen...   \n",
            "1  u/automoderator  https://www.reddit.com/r/cryptocurrency/commen...   \n",
            "2  u/webnowcompany  https://www.reddit.com/r/cryptocurrency/commen...   \n",
            "3  u/webnowcompany  https://www.reddit.com/r/cryptocurrency/commen...   \n",
            "4       u/thomasqv  https://www.reddit.com/r/cryptocurrency/commen...   \n",
            "\n",
            "                                                   5  \n",
            "0  \\nwelcome to the daily discussion. please read...  \n",
            "1  welcome to the monthly skeptics discussion thr...  \n",
            "2                                          [removed]  \n",
            "3                                          [removed]  \n",
            "4  https://blog.iota.org/year-in-review-year-in-p...  \n"
          ]
        }
      ]
    },
    {
      "cell_type": "code",
      "source": [
        "# First we lowecase them\n",
        "\n",
        "df = df.applymap(lambda x: x.lower() if isinstance(x, str) else x)"
      ],
      "metadata": {
        "colab": {
          "base_uri": "https://localhost:8080/"
        },
        "id": "pencRcHwbSpJ",
        "outputId": "379d3e70-91cf-4e38-9d43-98deba61a871"
      },
      "execution_count": null,
      "outputs": [
        {
          "output_type": "stream",
          "name": "stderr",
          "text": [
            "<ipython-input-26-237c6aa279f0>:3: FutureWarning: DataFrame.applymap has been deprecated. Use DataFrame.map instead.\n",
            "  df = df.applymap(lambda x: x.lower() if isinstance(x, str) else x)\n"
          ]
        }
      ]
    },
    {
      "cell_type": "code",
      "source": [
        "print(df.head())"
      ],
      "metadata": {
        "colab": {
          "base_uri": "https://localhost:8080/"
        },
        "id": "q3sgrEsAbXEk",
        "outputId": "7946d791-bff3-4c63-955f-214c0bcec0f3"
      },
      "execution_count": null,
      "outputs": [
        {
          "output_type": "stream",
          "name": "stdout",
          "text": [
            "    0           1                                                  2  \\\n",
            "0  26  2020-01-01         daily discussion - january 1, 2020 (gmt+0)   \n",
            "1  56  2020-01-01         monthly skeptics discussion - january 2020   \n",
            "2   1  2020-01-01  xi jinping's china has shown a strong embrace ...   \n",
            "3   1  2020-01-01  #btc bitcoin bull john mcafee has announced an...   \n",
            "4   0  2020-01-01                    adoption comming in hot in 2020   \n",
            "\n",
            "                 3                                                  4  \\\n",
            "0  u/automoderator  https://www.reddit.com/r/cryptocurrency/commen...   \n",
            "1  u/automoderator  https://www.reddit.com/r/cryptocurrency/commen...   \n",
            "2  u/webnowcompany  https://www.reddit.com/r/cryptocurrency/commen...   \n",
            "3  u/webnowcompany  https://www.reddit.com/r/cryptocurrency/commen...   \n",
            "4       u/thomasqv  https://www.reddit.com/r/cryptocurrency/commen...   \n",
            "\n",
            "                                                   5  \n",
            "0  \\nwelcome to the daily discussion. please read...  \n",
            "1  welcome to the monthly skeptics discussion thr...  \n",
            "2                                          [removed]  \n",
            "3                                          [removed]  \n",
            "4  https://blog.iota.org/year-in-review-year-in-p...  \n"
          ]
        }
      ]
    },
    {
      "cell_type": "code",
      "source": [
        "# delete irrevant data, which only leaves the date, subject and the main contents\n",
        "\n",
        "df_filtered = df[[1,2,5]]"
      ],
      "metadata": {
        "id": "wwRiyFXCbbnq"
      },
      "execution_count": null,
      "outputs": []
    },
    {
      "cell_type": "code",
      "source": [
        "print(df_filtered.head())"
      ],
      "metadata": {
        "colab": {
          "base_uri": "https://localhost:8080/"
        },
        "id": "TJHXZndZb07-",
        "outputId": "ebfbfaf1-14e7-4f32-a4e1-93806692b751"
      },
      "execution_count": null,
      "outputs": [
        {
          "output_type": "stream",
          "name": "stdout",
          "text": [
            "            1                                                  2  \\\n",
            "0  2020-01-01         daily discussion - january 1, 2020 (gmt+0)   \n",
            "1  2020-01-01         monthly skeptics discussion - january 2020   \n",
            "2  2020-01-01  xi jinping's china has shown a strong embrace ...   \n",
            "3  2020-01-01  #btc bitcoin bull john mcafee has announced an...   \n",
            "4  2020-01-01                    adoption comming in hot in 2020   \n",
            "\n",
            "                                                   5  \n",
            "0  \\nwelcome to the daily discussion. please read...  \n",
            "1  welcome to the monthly skeptics discussion thr...  \n",
            "2                                          [removed]  \n",
            "3                                          [removed]  \n",
            "4  https://blog.iota.org/year-in-review-year-in-p...  \n"
          ]
        }
      ]
    },
    {
      "cell_type": "code",
      "source": [
        "# keywords for filtering\n",
        "keywords = ['dogecoin', 'doge', 'doge coin',]\n"
      ],
      "metadata": {
        "id": "Gjy5dR66crUH"
      },
      "execution_count": null,
      "outputs": []
    },
    {
      "cell_type": "code",
      "source": [
        "def filter_by_keywords(row, keywords):\n",
        "    # we check if the tile or contect contain the keywords\n",
        "    title = row[2]\n",
        "    content = row[5]\n",
        "\n",
        "    # Handling potential non-string values (like floats) in title and content\n",
        "    title = str(title)  # Convert title to string to avoid errors\n",
        "    content = str(content)  # Convert content to string to avoid errors\n",
        "\n",
        "\n",
        "    # if any of two contains any of the keywords, we get true value\n",
        "    return any(keyword in title or keyword in content for keyword in keywords)\n"
      ],
      "metadata": {
        "id": "ngTS4X_Xcziz"
      },
      "execution_count": null,
      "outputs": []
    },
    {
      "cell_type": "code",
      "source": [
        "# Flitering\n",
        "filtered_df = df_filtered[df_filtered.apply(lambda row: filter_by_keywords(row, keywords), axis=1)]"
      ],
      "metadata": {
        "id": "XFOWUEd7dMY2"
      },
      "execution_count": null,
      "outputs": []
    },
    {
      "cell_type": "code",
      "source": [
        "print(filtered_df.head())"
      ],
      "metadata": {
        "colab": {
          "base_uri": "https://localhost:8080/"
        },
        "id": "R_R2r2ZIdiaP",
        "outputId": "65e9c406-171c-41a0-a509-33681205fa03"
      },
      "execution_count": null,
      "outputs": [
        {
          "output_type": "stream",
          "name": "stdout",
          "text": [
            "               1                                                  2  \\\n",
            "317   2020-01-03  doge weekly prices are trading close to the we...   \n",
            "424   2020-01-04  #btc #doge japanese mathematician shinichi moc...   \n",
            "573   2020-01-05  “fire in australia.” by cryptoinline https://l...   \n",
            "1451  2020-01-10  dogecoin price line falls to $0.00207 after tr...   \n",
            "1570  2020-01-10  finally transferred all my dogecoin to my trezor.   \n",
            "\n",
            "                                        5  \n",
            "317                             [removed]  \n",
            "424                             [removed]  \n",
            "573   https://i.redd.it/khvar39uou841.png  \n",
            "1451                            [removed]  \n",
            "1570  https://i.redd.it/z2cfxkr4s0a41.jpg  \n"
          ]
        }
      ]
    },
    {
      "cell_type": "code",
      "source": [
        "print(filtered_df)"
      ],
      "metadata": {
        "id": "dKOubUVRBbyI",
        "outputId": "18beed54-ad6d-4d90-dfa9-cc1aa093667d",
        "colab": {
          "base_uri": "https://localhost:8080/"
        }
      },
      "execution_count": null,
      "outputs": [
        {
          "output_type": "stream",
          "name": "stdout",
          "text": [
            "                 1                                                  2  \\\n",
            "317     2020-01-03  doge weekly prices are trading close to the we...   \n",
            "424     2020-01-04  #btc #doge japanese mathematician shinichi moc...   \n",
            "573     2020-01-05  “fire in australia.” by cryptoinline https://l...   \n",
            "1451    2020-01-10  dogecoin price line falls to $0.00207 after tr...   \n",
            "1570    2020-01-10  finally transferred all my dogecoin to my trezor.   \n",
            "...            ...                                                ...   \n",
            "778826  2021-12-30  how does it feel to lose the life-changing gai...   \n",
            "778842  2021-12-30  which coins did perform better than your expec...   \n",
            "778874  2021-12-30                 crypto was #1 reddit topic of 2021   \n",
            "778923  2021-12-30                          dogecoin triangle pattern   \n",
            "779009  2021-12-31  did anyone get any crypto-related gifts for ch...   \n",
            "\n",
            "                                                        5  \n",
            "317                                             [removed]  \n",
            "424                                             [removed]  \n",
            "573                   https://i.redd.it/khvar39uou841.png  \n",
            "1451                                            [removed]  \n",
            "1570                  https://i.redd.it/z2cfxkr4s0a41.jpg  \n",
            "...                                                   ...  \n",
            "778826  we all talk about life changing gains and what...  \n",
            "778842  i'm curious which coins were an underdog and e...  \n",
            "778874  https://decrypt.co/89549/crypto-most-viewed-on...  \n",
            "778923                                          [removed]  \n",
            "779009  i don't really talk to my friends and family a...  \n",
            "\n",
            "[26530 rows x 3 columns]\n"
          ]
        }
      ]
    },
    {
      "cell_type": "code",
      "source": [
        "# Number of Observations\n",
        "num_observations = len(filtered_df)\n",
        "print(f\"Number of observations: {num_observations}\")\n"
      ],
      "metadata": {
        "colab": {
          "base_uri": "https://localhost:8080/"
        },
        "id": "lP_qzgD67i_E",
        "outputId": "a234d433-0fc2-4d57-ac99-388754a18409"
      },
      "execution_count": null,
      "outputs": [
        {
          "output_type": "stream",
          "name": "stdout",
          "text": [
            "Number of observations: 26530\n"
          ]
        }
      ]
    },
    {
      "cell_type": "code",
      "source": [
        "output_file = \"/content/drive/MyDrive/Big_Data_Project/Output/Crypto_doge_related_posts.csv\"\n",
        "filtered_df.to_csv(output_file, index=False)"
      ],
      "metadata": {
        "id": "H-8j7osWdsvS"
      },
      "execution_count": null,
      "outputs": []
    },
    {
      "cell_type": "markdown",
      "source": [
        "# **Filtering Personal finance Subreddit - the process is the same as above*\n",
        "\n"
      ],
      "metadata": {
        "id": "CAQVlT4VeEBe"
      }
    },
    {
      "cell_type": "code",
      "source": [
        "input_file = '/content/drive/MyDrive/Big_Data_Project/SubReddits/personalfinance.csv'\n",
        "output_file = '/content/drive/MyDrive/Big_Data_Project/Output/pf_doge_related_posts.csv'\n",
        "\n"
      ],
      "metadata": {
        "id": "hHHqj8_keRA9"
      },
      "execution_count": null,
      "outputs": []
    },
    {
      "cell_type": "code",
      "source": [
        "df = pd.read_csv(input_file, header=None)"
      ],
      "metadata": {
        "id": "aMUf3rcTec53"
      },
      "execution_count": null,
      "outputs": []
    },
    {
      "cell_type": "code",
      "source": [
        "# First 5 results\n",
        "print(df.head())"
      ],
      "metadata": {
        "colab": {
          "base_uri": "https://localhost:8080/"
        },
        "id": "OD51dARlekzT",
        "outputId": "b11057b4-4547-458c-b9f5-ee74abe5f5aa"
      },
      "execution_count": null,
      "outputs": [
        {
          "output_type": "stream",
          "name": "stdout",
          "text": [
            "   0           1                                                  2  \\\n",
            "0  1  2020-01-01  In apartment while house is being finished and...   \n",
            "1  2  2020-01-01  Does closing hardly used credit cards impact c...   \n",
            "2  2  2020-01-01             What are some best books to invest in?   \n",
            "3  0  2020-01-01                      Bank Account Locked For Fraud   \n",
            "4  5  2020-01-01  Auto accident - Not my fault - Feels like I’m ...   \n",
            "\n",
            "                       3                                                  4  \\\n",
            "0  u/throwawaydsadrenter  https://www.reddit.com/r/personalfinance/comme...   \n",
            "1          u/skiboysteve  https://www.reddit.com/r/personalfinance/comme...   \n",
            "2            u/[deleted]  https://www.reddit.com/r/personalfinance/comme...   \n",
            "3            u/[deleted]  https://www.reddit.com/r/personalfinance/comme...   \n",
            "4            u/[deleted]  https://www.reddit.com/r/personalfinance/comme...   \n",
            "\n",
            "                                                   5  \n",
            "0  I've lived in the same apartment for over 4 ye...  \n",
            "1  My wife and I have three credit cards from the...  \n",
            "2                                          [removed]  \n",
            "3                                          [deleted]  \n",
            "4                                          [deleted]  \n"
          ]
        }
      ]
    },
    {
      "cell_type": "code",
      "source": [
        "#  we lowecase them\n",
        "\n",
        "df = df.applymap(lambda x: x.lower() if isinstance(x, str) else x)"
      ],
      "metadata": {
        "colab": {
          "base_uri": "https://localhost:8080/"
        },
        "id": "lCJBY7taepHK",
        "outputId": "44c3e4b3-77e5-4602-ef45-30fd74bd09d2"
      },
      "execution_count": null,
      "outputs": [
        {
          "output_type": "stream",
          "name": "stderr",
          "text": [
            "<ipython-input-22-72e759f8ec53>:3: FutureWarning: DataFrame.applymap has been deprecated. Use DataFrame.map instead.\n",
            "  df = df.applymap(lambda x: x.lower() if isinstance(x, str) else x)\n"
          ]
        }
      ]
    },
    {
      "cell_type": "code",
      "source": [
        "# delete irrevant data, which only leaves the date, subject and the main contents\n",
        "\n",
        "df_filtered = df[[1,2,5]]"
      ],
      "metadata": {
        "id": "-mRGCNVUesly"
      },
      "execution_count": null,
      "outputs": []
    },
    {
      "cell_type": "code",
      "source": [
        "print(df_filtered.head())"
      ],
      "metadata": {
        "colab": {
          "base_uri": "https://localhost:8080/"
        },
        "id": "o1-7dBhCevlr",
        "outputId": "5cbd46f0-955a-4373-92f6-4acc324d5d8e"
      },
      "execution_count": null,
      "outputs": [
        {
          "output_type": "stream",
          "name": "stdout",
          "text": [
            "            1                                                  2  \\\n",
            "0  2020-01-01  in apartment while house is being finished and...   \n",
            "1  2020-01-01  does closing hardly used credit cards impact c...   \n",
            "2  2020-01-01             what are some best books to invest in?   \n",
            "3  2020-01-01                      bank account locked for fraud   \n",
            "4  2020-01-01  auto accident - not my fault - feels like i’m ...   \n",
            "\n",
            "                                                   5  \n",
            "0  i've lived in the same apartment for over 4 ye...  \n",
            "1  my wife and i have three credit cards from the...  \n",
            "2                                          [removed]  \n",
            "3                                          [deleted]  \n",
            "4                                          [deleted]  \n"
          ]
        }
      ]
    },
    {
      "cell_type": "code",
      "source": [
        "# keywords for filtering\n",
        "keywords = ['dogecoin', 'doge', 'doge coin',]\n"
      ],
      "metadata": {
        "id": "YqzKcWsTewhw"
      },
      "execution_count": null,
      "outputs": []
    },
    {
      "cell_type": "code",
      "source": [
        "def filter_by_keywords(row, keywords):\n",
        "    # we check if the tile or contect contain the keywords\n",
        "    title = row[2]\n",
        "    content = row[5]\n",
        "\n",
        "    # Handling potential non-string values (like floats) in title and content\n",
        "    title = str(title)  # Convert title to string to avoid errors\n",
        "    content = str(content)  # Convert content to string to avoid errors\n",
        "\n",
        "\n",
        "    # if any of two contains any of the keywords, we get true value\n",
        "    return any(keyword in title or keyword in content for keyword in keywords)\n"
      ],
      "metadata": {
        "id": "C3IU6qKOe2Rh"
      },
      "execution_count": null,
      "outputs": []
    },
    {
      "cell_type": "code",
      "source": [
        "# Flitering\n",
        "filtered_df = df_filtered[df_filtered.apply(lambda row: filter_by_keywords(row, keywords), axis=1)]"
      ],
      "metadata": {
        "id": "s6xACX5xe2Ov"
      },
      "execution_count": null,
      "outputs": []
    },
    {
      "cell_type": "code",
      "source": [
        "print(filtered_df.head())"
      ],
      "metadata": {
        "colab": {
          "base_uri": "https://localhost:8080/"
        },
        "id": "8q5iC01Ue7je",
        "outputId": "c8db67b8-9e81-4b51-889f-a41488ffad47"
      },
      "execution_count": null,
      "outputs": [
        {
          "output_type": "stream",
          "name": "stdout",
          "text": [
            "                 1                                                  2  \\\n",
            "189041  2021-01-13  does anyone mind giving a little advice about ...   \n",
            "193402  2021-01-21  i bought some doge stock. first time buying cr...   \n",
            "197211  2021-01-29                can i pay off my parents' mortgage?   \n",
            "197267  2021-01-29  dogecoin in kraken.com account under minimum t...   \n",
            "197341  2021-01-29                                 buy dogecoin stock   \n",
            "\n",
            "                                                        5  \n",
            "189041  i really want to learn about investing. i’m do...  \n",
            "193402                                          [removed]  \n",
            "197211  due to some changes in finance while investing...  \n",
            "197267                                          [removed]  \n",
            "197341                                          [removed]  \n"
          ]
        }
      ]
    },
    {
      "cell_type": "code",
      "source": [
        "# Number of Observations\n",
        "num_observations = len(filtered_df)\n",
        "print(f\"Number of observations: {num_observations}\")\n"
      ],
      "metadata": {
        "colab": {
          "base_uri": "https://localhost:8080/"
        },
        "id": "-lm9B6Id79iY",
        "outputId": "33bd268c-b9b4-4b93-a626-0f6bfdbcb741"
      },
      "execution_count": null,
      "outputs": [
        {
          "output_type": "stream",
          "name": "stdout",
          "text": [
            "Number of observations: 67\n"
          ]
        }
      ]
    },
    {
      "cell_type": "code",
      "source": [
        "output_file = \"/content/drive/MyDrive/Big_Data_Project/Output/perf_doge_related_posts.csv\"\n",
        "filtered_df.to_csv(output_file, index=False)"
      ],
      "metadata": {
        "id": "FV8wbl2be-L6"
      },
      "execution_count": null,
      "outputs": []
    }
  ]
}