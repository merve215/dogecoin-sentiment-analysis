{
  "cells": [
    {
      "cell_type": "markdown",
      "metadata": {
        "id": "view-in-github",
        "colab_type": "text"
      },
      "source": [
        "<a href=\"https://colab.research.google.com/github/merve215/dogecoin-sentiment-analysis/blob/main/2_2)doge_analysis_part2.ipynb\" target=\"_parent\"><img src=\"https://colab.research.google.com/assets/colab-badge.svg\" alt=\"Open In Colab\"/></a>"
      ]
    },
    {
      "cell_type": "markdown",
      "metadata": {
        "id": "I7RlJlOMWnn7"
      },
      "source": [
        "# Mounting the Google Drive"
      ]
    },
    {
      "cell_type": "code",
      "execution_count": null,
      "metadata": {
        "colab": {
          "base_uri": "https://localhost:8080/"
        },
        "id": "6PYe20_UPQ5w",
        "outputId": "9ee89afa-5d48-4ba0-d81b-b09dc306042c"
      },
      "outputs": [
        {
          "output_type": "stream",
          "name": "stdout",
          "text": [
            "Mounted at /content/drive\n",
            "'0) Converitng to Excels.py'\t\t      Lexicon\n",
            "'1) SubReddits Filtered.ipynb'\t\t      Output\n",
            "'2-1) doge_anaylsis_part1.py'\t\t      Price_Data\n",
            "'2-2)doge_analysis_part2.ipynb'\t\t      Python_SubReddit_Data\n",
            " AC2.ipynb\t\t\t\t      reddit2\n",
            "'Analyzing Returns to Doge, BTC, S&P.ipynb'   SubReddits\n",
            "'Big Data Project.gdoc'\t\t\t     'Word Cloud.ipynb copy'\n",
            "'Crypto SubReddit Analysis .ipynb'\n"
          ]
        }
      ],
      "source": [
        "from google.colab import drive\n",
        "drive.mount('/content/drive')\n",
        "\n",
        "# Make sure : MyDrive -> Big_Data_Project\n",
        "!ls /content/drive/MyDrive/Big_Data_Project"
      ]
    },
    {
      "cell_type": "code",
      "execution_count": null,
      "metadata": {
        "colab": {
          "base_uri": "https://localhost:8080/"
        },
        "id": "ZiuwzPTjPXgq",
        "outputId": "12f3b4d3-e044-4ae7-9d1b-85ac933c8165"
      },
      "outputs": [
        {
          "output_type": "stream",
          "name": "stdout",
          "text": [
            "'0) Converitng to Excels.py'\t\t      Lexicon\n",
            "'1) SubReddits Filtered.ipynb'\t\t      Output\n",
            "'2-1) doge_anaylsis_part1.py'\t\t      Price_Data\n",
            "'2-2)doge_analysis_part2.ipynb'\t\t      Python_SubReddit_Data\n",
            " AC2.ipynb\t\t\t\t      reddit2\n",
            "'Analyzing Returns to Doge, BTC, S&P.ipynb'   SubReddits\n",
            "'Big Data Project.gdoc'\t\t\t     'Word Cloud.ipynb copy'\n",
            "'Crypto SubReddit Analysis .ipynb'\n",
            " crypto_doge_related_posts.csv\t\t       'normlaized.investing_sentiment_vs_price change.png'\n",
            " crypto_FinBERT_Sentiment_Results.csv\t        perf_doge_related_posts.csv\n",
            " crypto_Merged_Sentiment_Results.csv\t        pf_FinBERT_Sentiment_Results.csv\n",
            " crypto_Merged_Sentiment_Results_Daily.csv      pf_Merged_Sentiment_Results_With_Lexicon.csv\n",
            " dogecoin_posts.csv\t\t\t        seconddoge_analysis_results.csv\n",
            " entiredoge_sentiment_results_daily.csv         seconddoge_Merged_Sentiment_Results.csv\n",
            " firstdoge_analysis_results.csv\t\t        seconddoge_Merged_Sentiment_Results_Daily.csv\n",
            " firstdoge_Merged_Sentiment_Results.csv         stockmarket_doge_related_posts.csv\n",
            " firstdoge_Merged_Sentiment_Results_Daily.csv   wordcloudcombined.png\n",
            " investing_doge_related_posts.csv\t        wordcloudcombinedsansinvesting.png\n",
            " investing_doge_related_posts.gsheet\t        wordcloudCrypto.png\n",
            " investing_FinBERT_Sentiment_Results.csv        wordcloudDogeB.png\n",
            " investing_Merged_Sentiment_Results.csv         wordcloudDoge.png\n",
            " investing_Merged_Sentiment_Results_Daily.csv   wordcloud.png\n",
            " investing_sentiment_vs_price.png\n"
          ]
        }
      ],
      "source": [
        "!ls /content/drive/MyDrive/Big_Data_Project\n",
        "!ls /content/drive/MyDrive/Big_Data_Project/Output"
      ]
    },
    {
      "cell_type": "code",
      "execution_count": null,
      "metadata": {
        "id": "ZAKCOEdnZw2n"
      },
      "outputs": [],
      "source": [
        "import pandas as pd\n",
        "from transformers import BertTokenizer, BertForSequenceClassification\n",
        "import torch\n",
        "from tqdm import tqdm  # For progress bar"
      ]
    },
    {
      "cell_type": "markdown",
      "metadata": {
        "id": "3gQOLJS8UOFz"
      },
      "source": [
        "# Data for Doge Part 1"
      ]
    },
    {
      "cell_type": "code",
      "source": [
        "file_path = '/content/drive/MyDrive/Big_Data_Project/Output/dogecoin_posts.csv'\n",
        "df = pd.read_csv(file_path, header=None)\n",
        "print(df)\n"
      ],
      "metadata": {
        "colab": {
          "base_uri": "https://localhost:8080/"
        },
        "id": "eS4fvWkndPgE",
        "outputId": "a1c9ad77-0b4f-432b-debc-f71b9a61b5cd"
      },
      "execution_count": null,
      "outputs": [
        {
          "output_type": "stream",
          "name": "stdout",
          "text": [
            "          0           1                                                  2  \\\n",
            "0         0           1                                                  2   \n",
            "1         0  2020-01-01  happy new year shibes let's make some good stu...   \n",
            "2         0  2020-01-01            please donate to help prevent suicides!   \n",
            "3         3  2020-01-01                       happy 2020! to the moon!! 🐶🚀   \n",
            "4       301  2020-01-01  just checked the price after coming in from my...   \n",
            "...     ...         ...                                                ...   \n",
            "992070    0  2021-12-31                       sometimes i like paying tax.   \n",
            "992071   12  2021-12-31                              resurfacing yet again   \n",
            "992072   20  2021-12-31  from halo game page on fb, thought you guys wo...   \n",
            "992073   43  2021-12-31                 elon’s new profile pic… thoughts??   \n",
            "992074   23  2021-12-31                                    working for us!   \n",
            "\n",
            "                       3                                                  4  \\\n",
            "0                      3                                                  4   \n",
            "1            u/[deleted]  https://www.reddit.com/r/dogecoin/comments/eib...   \n",
            "2             u/agape740  https://www.reddit.com/r/dogecoin/comments/eib...   \n",
            "3                u/sxnxw  https://www.reddit.com/r/dogecoin/comments/eib...   \n",
            "4       u/garylittlemore  https://www.reddit.com/r/dogecoin/comments/eib...   \n",
            "...                  ...                                                ...   \n",
            "992070         u/don-for  https://www.reddit.com/r/dogecoin/comments/rsf...   \n",
            "992071   u/dogeymnemonic  https://www.reddit.com/r/dogecoin/comments/rsf...   \n",
            "992072   u/realitypopper  https://www.reddit.com/r/dogecoin/comments/rsf...   \n",
            "992073    u/lukeiscool22  https://www.reddit.com/r/dogecoin/comments/rsf...   \n",
            "992074     u/marketman57  https://www.reddit.com/r/dogecoin/comments/rsg...   \n",
            "\n",
            "                                                        5  \n",
            "0                                                       5  \n",
            "1                     https://i.redd.it/nza9csbk52841.png  \n",
            "2                                               [removed]  \n",
            "3       happy new year my fellow shibes. its been an a...  \n",
            "4                     https://i.redd.it/krtxuuush2841.jpg  \n",
            "...                                                   ...  \n",
            "992070  so i've just been looking at how much extra ta...  \n",
            "992071                https://i.redd.it/di6t2yi7or881.jpg  \n",
            "992072                https://i.redd.it/bsstw03hpr881.jpg  \n",
            "992073                https://i.redd.it/lylg3o7hpr881.jpg  \n",
            "992074                https://i.redd.it/cz3acj8fqr881.jpg  \n",
            "\n",
            "[992075 rows x 6 columns]\n"
          ]
        }
      ]
    },
    {
      "cell_type": "code",
      "source": [
        "# Load the file\n",
        "file_path = '/content/drive/MyDrive/Big_Data_Project/Output/firstdoge_analysis_results.csv'\n",
        "df = pd.read_csv(file_path, header=None)\n",
        "results_df = pd.read_csv(file_path)\n",
        "\n"
      ],
      "metadata": {
        "colab": {
          "base_uri": "https://localhost:8080/"
        },
        "id": "efkTRD29_03a",
        "outputId": "49cc3180-ccf2-461b-b4bf-4b8fc687ab70"
      },
      "execution_count": null,
      "outputs": [
        {
          "output_type": "stream",
          "name": "stderr",
          "text": [
            "<ipython-input-12-2c0b7ab06a8f>:3: DtypeWarning: Columns (1) have mixed types. Specify dtype option on import or set low_memory=False.\n",
            "  df = pd.read_csv(file_path, header=None)\n"
          ]
        }
      ]
    },
    {
      "cell_type": "code",
      "execution_count": null,
      "metadata": {
        "id": "bFXLRMwM7arc"
      },
      "outputs": [],
      "source": [
        "# Load additional sentiment lexicon\n",
        "additional_sentiments_file = '/content/drive/MyDrive/Big_Data_Project/Lexicon/l2_lexicon.csv'\n",
        "additional_df = pd.read_csv(additional_sentiments_file, header=None, names=['key word', 'sentiment'])  # Specify header=None and names\n",
        "\n",
        "# Create a dictionary for fast lookup\n",
        "lexicon_dict = dict(zip(additional_df['key word'], additional_df['sentiment'].map({'neutral': 0, 'positive': 1, 'negative': -1}))) # 0: neutral, 1: positive, -1: negative"
      ]
    },
    {
      "cell_type": "code",
      "execution_count": null,
      "metadata": {
        "id": "YYjS2FV17h4J"
      },
      "outputs": [],
      "source": [
        "# Apply lexicon-based overrides\n",
        "def override_with_lexicon(text, finbert_sentiment):\n",
        "    # Check for matches with lexicon phrases\n",
        "    for phrase, custom_sentiment in lexicon_dict.items():\n",
        "        if phrase in text:  # Phrase match found\n",
        "            return custom_sentiment  # Override sentiment\n",
        "    return finbert_sentiment  # Use FinBERT sentiment if no match is found\n",
        "\n",
        "# Apply the lexicon override\n",
        "# Change 'finbert_results_df' to 'results_df'\n",
        "results_df['final_sentiment'] = results_df.apply(\n",
        "    lambda row: override_with_lexicon(row['text'], row['finbert_sentiment']),\n",
        "    axis=1\n",
        ")"
      ]
    },
    {
      "cell_type": "code",
      "execution_count": null,
      "metadata": {
        "colab": {
          "base_uri": "https://localhost:8080/"
        },
        "id": "cF9Ts77Z7lpg",
        "outputId": "67356d7c-bce2-4e1e-c040-48d77efd64a9"
      },
      "outputs": [
        {
          "output_type": "stream",
          "name": "stdout",
          "text": [
            "Results saved to /content/drive/MyDrive/Big_Data_Project/Output/firstdoge_Merged_Sentiment_Results.csv\n"
          ]
        }
      ],
      "source": [
        "# Save final results\n",
        "output_file = '/content/drive/MyDrive/Big_Data_Project/Output/firstdoge_Merged_Sentiment_Results.csv'\n",
        "results_df.to_csv(output_file, index=False)\n",
        "print(f\"Results saved to {output_file}\")"
      ]
    },
    {
      "cell_type": "markdown",
      "metadata": {
        "id": "y1X5Oezy79mI"
      },
      "source": [
        "Find average daily sentiment - doge SubReddit part1"
      ]
    },
    {
      "cell_type": "code",
      "execution_count": null,
      "metadata": {
        "colab": {
          "base_uri": "https://localhost:8080/",
          "height": 484
        },
        "id": "yyUBDmHp8IHM",
        "outputId": "e7081dbc-c5d4-47e7-abcd-d1049ae25f47"
      },
      "outputs": [
        {
          "output_type": "execute_result",
          "data": {
            "text/plain": [
              "date\n",
              "2021-01-01    0.085106\n",
              "2021-01-02    0.005775\n",
              "2021-01-03    0.056944\n",
              "2021-01-04    0.039666\n",
              "2021-01-05    0.052448\n",
              "                ...   \n",
              "2021-04-26    0.035469\n",
              "2021-04-27    0.037194\n",
              "2021-04-28    0.035657\n",
              "2021-04-29    0.034252\n",
              "2021-04-30    0.037890\n",
              "Name: final_sentiment, Length: 120, dtype: float64"
            ],
            "text/html": [
              "<div>\n",
              "<style scoped>\n",
              "    .dataframe tbody tr th:only-of-type {\n",
              "        vertical-align: middle;\n",
              "    }\n",
              "\n",
              "    .dataframe tbody tr th {\n",
              "        vertical-align: top;\n",
              "    }\n",
              "\n",
              "    .dataframe thead th {\n",
              "        text-align: right;\n",
              "    }\n",
              "</style>\n",
              "<table border=\"1\" class=\"dataframe\">\n",
              "  <thead>\n",
              "    <tr style=\"text-align: right;\">\n",
              "      <th></th>\n",
              "      <th>final_sentiment</th>\n",
              "    </tr>\n",
              "    <tr>\n",
              "      <th>date</th>\n",
              "      <th></th>\n",
              "    </tr>\n",
              "  </thead>\n",
              "  <tbody>\n",
              "    <tr>\n",
              "      <th>2021-01-01</th>\n",
              "      <td>0.085106</td>\n",
              "    </tr>\n",
              "    <tr>\n",
              "      <th>2021-01-02</th>\n",
              "      <td>0.005775</td>\n",
              "    </tr>\n",
              "    <tr>\n",
              "      <th>2021-01-03</th>\n",
              "      <td>0.056944</td>\n",
              "    </tr>\n",
              "    <tr>\n",
              "      <th>2021-01-04</th>\n",
              "      <td>0.039666</td>\n",
              "    </tr>\n",
              "    <tr>\n",
              "      <th>2021-01-05</th>\n",
              "      <td>0.052448</td>\n",
              "    </tr>\n",
              "    <tr>\n",
              "      <th>...</th>\n",
              "      <td>...</td>\n",
              "    </tr>\n",
              "    <tr>\n",
              "      <th>2021-04-26</th>\n",
              "      <td>0.035469</td>\n",
              "    </tr>\n",
              "    <tr>\n",
              "      <th>2021-04-27</th>\n",
              "      <td>0.037194</td>\n",
              "    </tr>\n",
              "    <tr>\n",
              "      <th>2021-04-28</th>\n",
              "      <td>0.035657</td>\n",
              "    </tr>\n",
              "    <tr>\n",
              "      <th>2021-04-29</th>\n",
              "      <td>0.034252</td>\n",
              "    </tr>\n",
              "    <tr>\n",
              "      <th>2021-04-30</th>\n",
              "      <td>0.037890</td>\n",
              "    </tr>\n",
              "  </tbody>\n",
              "</table>\n",
              "<p>120 rows × 1 columns</p>\n",
              "</div><br><label><b>dtype:</b> float64</label>"
            ]
          },
          "metadata": {},
          "execution_count": 12
        }
      ],
      "source": [
        "import pandas as pd\n",
        "\n",
        "# Load the final sentiment results\n",
        "output_file = '/content/drive/MyDrive/Big_Data_Project/Output/firstdoge_Merged_Sentiment_Results.csv'\n",
        "results_df = pd.read_csv(output_file)\n",
        "\n",
        "# Convert the 'date' column to datetime objects\n",
        "results_df['date'] = pd.to_datetime(results_df['date'], errors='coerce')\n",
        "\n",
        "# Group by date and calculate the average sentiment for each day\n",
        "average_daily_sentiment = results_df.groupby('date')['final_sentiment'].mean()\n",
        "\n",
        "# Print or further process the average daily sentiment\n",
        "average_daily_sentiment"
      ]
    },
    {
      "cell_type": "code",
      "execution_count": null,
      "metadata": {
        "colab": {
          "base_uri": "https://localhost:8080/"
        },
        "id": "Wv2O3EzR82aD",
        "outputId": "da283cfd-d8d9-4bc4-d3dc-a8f03108580b"
      },
      "outputs": [
        {
          "output_type": "stream",
          "name": "stdout",
          "text": [
            "Average daily sentiment saved to: /content/drive/MyDrive/Big_Data_Project/Output/firstdoge_Merged_Sentiment_Results_Daily.csv\n"
          ]
        }
      ],
      "source": [
        "# Define the output file path\n",
        "output_file = '/content/drive/MyDrive/Big_Data_Project/Output/firstdoge_Merged_Sentiment_Results_Daily.csv'\n",
        "\n",
        "# Save the average daily sentiment to a CSV file\n",
        "average_daily_sentiment.to_csv(output_file, header=True)\n",
        "\n",
        "print(f\"Average daily sentiment saved to: {output_file}\")"
      ]
    },
    {
      "cell_type": "markdown",
      "source": [
        "# Data for Doge Part 2"
      ],
      "metadata": {
        "id": "_q8u8hAXBqj8"
      }
    },
    {
      "cell_type": "code",
      "source": [
        "# Load additional sentiment lexicon\n",
        "additional_sentiments_file = '/content/drive/MyDrive/Big_Data_Project/Lexicon/l2_lexicon.csv'\n",
        "additional_df = pd.read_csv(additional_sentiments_file, header=None, names=['key word', 'sentiment'])  # Specify header=None and names\n",
        "\n",
        "# Create a dictionary for fast lookup\n",
        "lexicon_dict = dict(zip(additional_df['key word'], additional_df['sentiment'].map({'neutral': 0, 'positive': 1, 'negative': -1}))) # 0: neutral, 1: positive, -1: negative"
      ],
      "metadata": {
        "id": "yTJHhAEkBvbV"
      },
      "execution_count": null,
      "outputs": []
    },
    {
      "cell_type": "code",
      "source": [
        "# Apply lexicon-based overrides\n",
        "def override_with_lexicon(text, finbert_sentiment):\n",
        "    # Check if 'text' is a string before checking for phrases\n",
        "    if isinstance(text, str):\n",
        "        # Check for matches with lexicon phrases\n",
        "        for phrase, custom_sentiment in lexicon_dict.items():\n",
        "            if phrase in text:  # Phrase match found\n",
        "                return custom_sentiment  # Override sentiment\n",
        "    return finbert_sentiment  # Use FinBERT sentiment if no match is found\n",
        "\n",
        "# Apply the lexicon override\n",
        "# Change 'finbert_results_df' to 'results_df'\n",
        "results_df['final_sentiment'] = results_df.apply(\n",
        "    lambda row: override_with_lexicon(row['text'], row['finbert_sentiment']),\n",
        "    axis=1\n",
        ")"
      ],
      "metadata": {
        "id": "AmEhR8poBvY_"
      },
      "execution_count": null,
      "outputs": []
    },
    {
      "cell_type": "code",
      "source": [
        "# Save final results\n",
        "output_file = '/content/drive/MyDrive/Big_Data_Project/Output/seconddoge_Merged_Sentiment_Results.csv'\n",
        "results_df.to_csv(output_file, index=False)\n",
        "print(f\"Results saved to {output_file}\")"
      ],
      "metadata": {
        "colab": {
          "base_uri": "https://localhost:8080/"
        },
        "id": "3bsDYUSeBvVI",
        "outputId": "6b23f8a9-1c4d-4a67-90c3-005b6c21d971"
      },
      "execution_count": null,
      "outputs": [
        {
          "output_type": "stream",
          "name": "stdout",
          "text": [
            "Results saved to /content/drive/MyDrive/Big_Data_Project/Output/seconddoge_Merged_Sentiment_Results.csv\n"
          ]
        }
      ]
    },
    {
      "cell_type": "markdown",
      "source": [
        "Find average daily sentiment - doge SubReddit part2"
      ],
      "metadata": {
        "id": "U-_CvRQECLfM"
      }
    },
    {
      "cell_type": "code",
      "source": [
        "import pandas as pd\n",
        "\n",
        "# Load the final sentiment results\n",
        "output_file = '/content/drive/MyDrive/Big_Data_Project/Output/seconddoge_Merged_Sentiment_Results.csv'\n",
        "results_df = pd.read_csv(output_file)\n",
        "\n",
        "# Convert the 'date' column to datetime objects\n",
        "results_df['date'] = pd.to_datetime(results_df['date'], errors='coerce')\n",
        "\n",
        "# Group by date and calculate the average sentiment for each day\n",
        "average_daily_sentiment = results_df.groupby('date')['final_sentiment'].mean()\n",
        "\n",
        "# Print or further process the average daily sentiment\n",
        "average_daily_sentiment"
      ],
      "metadata": {
        "colab": {
          "base_uri": "https://localhost:8080/",
          "height": 484
        },
        "id": "fpnr0AjgBvSx",
        "outputId": "37316268-ec91-4ae4-f817-b50243876aa8"
      },
      "execution_count": null,
      "outputs": [
        {
          "output_type": "execute_result",
          "data": {
            "text/plain": [
              "date\n",
              "2021-05-01    0.050472\n",
              "2021-05-02    0.034936\n",
              "2021-05-03    0.047002\n",
              "2021-05-04    0.044108\n",
              "2021-05-05    0.054880\n",
              "                ...   \n",
              "2021-12-27    0.039216\n",
              "2021-12-28    0.015625\n",
              "2021-12-29    0.045139\n",
              "2021-12-30    0.049834\n",
              "2021-12-31   -0.111111\n",
              "Name: final_sentiment, Length: 245, dtype: float64"
            ],
            "text/html": [
              "<div>\n",
              "<style scoped>\n",
              "    .dataframe tbody tr th:only-of-type {\n",
              "        vertical-align: middle;\n",
              "    }\n",
              "\n",
              "    .dataframe tbody tr th {\n",
              "        vertical-align: top;\n",
              "    }\n",
              "\n",
              "    .dataframe thead th {\n",
              "        text-align: right;\n",
              "    }\n",
              "</style>\n",
              "<table border=\"1\" class=\"dataframe\">\n",
              "  <thead>\n",
              "    <tr style=\"text-align: right;\">\n",
              "      <th></th>\n",
              "      <th>final_sentiment</th>\n",
              "    </tr>\n",
              "    <tr>\n",
              "      <th>date</th>\n",
              "      <th></th>\n",
              "    </tr>\n",
              "  </thead>\n",
              "  <tbody>\n",
              "    <tr>\n",
              "      <th>2021-05-01</th>\n",
              "      <td>0.050472</td>\n",
              "    </tr>\n",
              "    <tr>\n",
              "      <th>2021-05-02</th>\n",
              "      <td>0.034936</td>\n",
              "    </tr>\n",
              "    <tr>\n",
              "      <th>2021-05-03</th>\n",
              "      <td>0.047002</td>\n",
              "    </tr>\n",
              "    <tr>\n",
              "      <th>2021-05-04</th>\n",
              "      <td>0.044108</td>\n",
              "    </tr>\n",
              "    <tr>\n",
              "      <th>2021-05-05</th>\n",
              "      <td>0.054880</td>\n",
              "    </tr>\n",
              "    <tr>\n",
              "      <th>...</th>\n",
              "      <td>...</td>\n",
              "    </tr>\n",
              "    <tr>\n",
              "      <th>2021-12-27</th>\n",
              "      <td>0.039216</td>\n",
              "    </tr>\n",
              "    <tr>\n",
              "      <th>2021-12-28</th>\n",
              "      <td>0.015625</td>\n",
              "    </tr>\n",
              "    <tr>\n",
              "      <th>2021-12-29</th>\n",
              "      <td>0.045139</td>\n",
              "    </tr>\n",
              "    <tr>\n",
              "      <th>2021-12-30</th>\n",
              "      <td>0.049834</td>\n",
              "    </tr>\n",
              "    <tr>\n",
              "      <th>2021-12-31</th>\n",
              "      <td>-0.111111</td>\n",
              "    </tr>\n",
              "  </tbody>\n",
              "</table>\n",
              "<p>245 rows × 1 columns</p>\n",
              "</div><br><label><b>dtype:</b> float64</label>"
            ]
          },
          "metadata": {},
          "execution_count": 19
        }
      ]
    },
    {
      "cell_type": "code",
      "source": [
        "# Define the output file path\n",
        "output_file = '/content/drive/MyDrive/Big_Data_Project/Output/seconddoge_Merged_Sentiment_Results_Daily.csv'\n",
        "\n",
        "# Save the average daily sentiment to a CSV file\n",
        "average_daily_sentiment.to_csv(output_file, header=True)\n",
        "\n",
        "print(f\"Average daily sentiment saved to: {output_file}\")"
      ],
      "metadata": {
        "colab": {
          "base_uri": "https://localhost:8080/"
        },
        "id": "O18aOXOMCz_6",
        "outputId": "e686c08e-4cc4-47aa-c788-f420562426a3"
      },
      "execution_count": null,
      "outputs": [
        {
          "output_type": "stream",
          "name": "stdout",
          "text": [
            "Average daily sentiment saved to: /content/drive/MyDrive/Big_Data_Project/Output/seconddoge_Merged_Sentiment_Results_Daily.csv\n"
          ]
        }
      ]
    },
    {
      "cell_type": "markdown",
      "source": [
        "# Merge doge part 1 and part 2 sentiment analysis daily results"
      ],
      "metadata": {
        "id": "KHAliJ44CNZi"
      }
    },
    {
      "cell_type": "code",
      "source": [
        "# Define the file paths\n",
        "file1 = '/content/drive/MyDrive/Big_Data_Project/Output/firstdoge_Merged_Sentiment_Results_Daily.csv'\n",
        "file2 = '/content/drive/MyDrive/Big_Data_Project/Output/seconddoge_Merged_Sentiment_Results_Daily.csv'\n",
        "\n",
        "\n"
      ],
      "metadata": {
        "id": "6grwDuiUDVok"
      },
      "execution_count": null,
      "outputs": []
    },
    {
      "cell_type": "code",
      "source": [
        "# Read the files into dataframes\n",
        "df1 = pd.read_csv(file1)\n",
        "df2 = pd.read_csv(file2)"
      ],
      "metadata": {
        "id": "q3DZTCIDDVkm"
      },
      "execution_count": null,
      "outputs": []
    },
    {
      "cell_type": "code",
      "source": [
        "# Option 1: Simple Concatenation (Row-wise)\n",
        "average_daily_sentiment_df = pd.concat([df1, df2], ignore_index=True)"
      ],
      "metadata": {
        "id": "lFu4_xwoDVhX"
      },
      "execution_count": null,
      "outputs": []
    },
    {
      "cell_type": "code",
      "source": [
        "# Save the merged dataframe\n",
        "output_file = '/content/drive/MyDrive/Big_Data_Project/Output/entiredoge_sentiment_results_daily.csv'\n",
        "average_daily_sentiment_df.to_csv(output_file, index=False)"
      ],
      "metadata": {
        "id": "j2ZH2BxEDcZS"
      },
      "execution_count": null,
      "outputs": []
    },
    {
      "cell_type": "code",
      "source": [
        "# Check the first 5 rows\n",
        "print(\"First 5 rows:\")\n",
        "print(average_daily_sentiment_df.head())\n"
      ],
      "metadata": {
        "colab": {
          "base_uri": "https://localhost:8080/"
        },
        "id": "un99msqCDqxa",
        "outputId": "8c112688-abc4-44e5-ab90-0169e33d0be9"
      },
      "execution_count": null,
      "outputs": [
        {
          "output_type": "stream",
          "name": "stdout",
          "text": [
            "First 5 rows:\n",
            "         date  final_sentiment\n",
            "0  2021-01-01         0.085106\n",
            "1  2021-01-02         0.005775\n",
            "2  2021-01-03         0.056944\n",
            "3  2021-01-04         0.039666\n",
            "4  2021-01-05         0.052448\n"
          ]
        }
      ]
    },
    {
      "cell_type": "code",
      "source": [
        "# Check the last 5 rows\n",
        "print(\"\\nLast 5 rows:\")\n",
        "print(average_daily_sentiment_df.tail())"
      ],
      "metadata": {
        "colab": {
          "base_uri": "https://localhost:8080/"
        },
        "id": "3TMbLwP8D0ZE",
        "outputId": "759bd827-07f4-402d-8991-ede66b37fc86"
      },
      "execution_count": null,
      "outputs": [
        {
          "output_type": "stream",
          "name": "stdout",
          "text": [
            "\n",
            "Last 5 rows:\n",
            "           date  final_sentiment\n",
            "360  2021-12-27         0.039216\n",
            "361  2021-12-28         0.015625\n",
            "362  2021-12-29         0.045139\n",
            "363  2021-12-30         0.049834\n",
            "364  2021-12-31        -0.111111\n"
          ]
        }
      ]
    },
    {
      "cell_type": "code",
      "source": [
        "file_path='/content/drive/MyDrive/Big_Data_Project/Output/dogecoin_posts.csv'"
      ],
      "metadata": {
        "id": "XDyPps0KfQ5z"
      },
      "execution_count": null,
      "outputs": []
    },
    {
      "cell_type": "code",
      "source": [
        "df = pd.read_csv(file_path)"
      ],
      "metadata": {
        "id": "nimmpoy_fcFo"
      },
      "execution_count": null,
      "outputs": []
    },
    {
      "cell_type": "code",
      "source": [
        "print(df)"
      ],
      "metadata": {
        "colab": {
          "base_uri": "https://localhost:8080/"
        },
        "id": "eQuU80iWf7xa",
        "outputId": "2b917cbc-2325-4aea-c7b8-0844969a9fca"
      },
      "execution_count": null,
      "outputs": [
        {
          "output_type": "stream",
          "name": "stdout",
          "text": [
            "          0           1                                                  2  \\\n",
            "0         0  2020-01-01  happy new year shibes let's make some good stu...   \n",
            "1         0  2020-01-01            please donate to help prevent suicides!   \n",
            "2         3  2020-01-01                       happy 2020! to the moon!! 🐶🚀   \n",
            "3       301  2020-01-01  just checked the price after coming in from my...   \n",
            "4         3  2020-01-01                      happy new year! to the moon!!   \n",
            "...     ...         ...                                                ...   \n",
            "992069    0  2021-12-31                       sometimes i like paying tax.   \n",
            "992070   12  2021-12-31                              resurfacing yet again   \n",
            "992071   20  2021-12-31  from halo game page on fb, thought you guys wo...   \n",
            "992072   43  2021-12-31                 elon’s new profile pic… thoughts??   \n",
            "992073   23  2021-12-31                                    working for us!   \n",
            "\n",
            "                       3                                                  4  \\\n",
            "0            u/[deleted]  https://www.reddit.com/r/dogecoin/comments/eib...   \n",
            "1             u/agape740  https://www.reddit.com/r/dogecoin/comments/eib...   \n",
            "2                u/sxnxw  https://www.reddit.com/r/dogecoin/comments/eib...   \n",
            "3       u/garylittlemore  https://www.reddit.com/r/dogecoin/comments/eib...   \n",
            "4          u/revuprender  https://www.reddit.com/r/dogecoin/comments/eic...   \n",
            "...                  ...                                                ...   \n",
            "992069         u/don-for  https://www.reddit.com/r/dogecoin/comments/rsf...   \n",
            "992070   u/dogeymnemonic  https://www.reddit.com/r/dogecoin/comments/rsf...   \n",
            "992071   u/realitypopper  https://www.reddit.com/r/dogecoin/comments/rsf...   \n",
            "992072    u/lukeiscool22  https://www.reddit.com/r/dogecoin/comments/rsf...   \n",
            "992073     u/marketman57  https://www.reddit.com/r/dogecoin/comments/rsg...   \n",
            "\n",
            "                                                        5  \n",
            "0                     https://i.redd.it/nza9csbk52841.png  \n",
            "1                                               [removed]  \n",
            "2       happy new year my fellow shibes. its been an a...  \n",
            "3                     https://i.redd.it/krtxuuush2841.jpg  \n",
            "4       happy new year! it has been a while since revu...  \n",
            "...                                                   ...  \n",
            "992069  so i've just been looking at how much extra ta...  \n",
            "992070                https://i.redd.it/di6t2yi7or881.jpg  \n",
            "992071                https://i.redd.it/bsstw03hpr881.jpg  \n",
            "992072                https://i.redd.it/lylg3o7hpr881.jpg  \n",
            "992073                https://i.redd.it/cz3acj8fqr881.jpg  \n",
            "\n",
            "[992074 rows x 6 columns]\n"
          ]
        }
      ]
    },
    {
      "cell_type": "code",
      "source": [
        "df['Date'] = pd.to_datetime(df['1'])"
      ],
      "metadata": {
        "id": "pP7Ijz_5fcCu"
      },
      "execution_count": null,
      "outputs": []
    },
    {
      "cell_type": "code",
      "source": [
        "start_date = '2021-01-01'\n",
        "end_date = '2021-12-31'\n"
      ],
      "metadata": {
        "id": "E0v27_FifQ1Y"
      },
      "execution_count": null,
      "outputs": []
    },
    {
      "cell_type": "code",
      "source": [
        "filtered_df = df[(df['1'] >= start_date) & (df['1'] <= end_date)]"
      ],
      "metadata": {
        "id": "TnMl-iWifQys"
      },
      "execution_count": null,
      "outputs": []
    },
    {
      "cell_type": "code",
      "source": [
        "print(filtered_df)"
      ],
      "metadata": {
        "colab": {
          "base_uri": "https://localhost:8080/"
        },
        "id": "_yv6csFIf0pR",
        "outputId": "3eb58dd5-6d65-4ce0-e8d0-1aafc2abaf29"
      },
      "execution_count": null,
      "outputs": [
        {
          "output_type": "stream",
          "name": "stdout",
          "text": [
            "         0           1                                                  2  \\\n",
            "9709    24  2021-01-01          doge looking to break 0.005000 short term   \n",
            "9710     6  2021-01-01                           new year tipping thread!   \n",
            "9711    15  2021-01-01                          the doge side of the moon   \n",
            "9712     6  2021-01-01       how long does it take to sync from bootstrap   \n",
            "9713     1  2021-01-01  wasted my time making a meme website about dog...   \n",
            "...     ..         ...                                                ...   \n",
            "992069   0  2021-12-31                       sometimes i like paying tax.   \n",
            "992070  12  2021-12-31                              resurfacing yet again   \n",
            "992071  20  2021-12-31  from halo game page on fb, thought you guys wo...   \n",
            "992072  43  2021-12-31                 elon’s new profile pic… thoughts??   \n",
            "992073  23  2021-12-31                                    working for us!   \n",
            "\n",
            "                      3                                                  4  \\\n",
            "9709            u/yhood  https://www.reddit.com/r/dogecoin/comments/ko0...   \n",
            "9710       u/zzzz_sleep  https://www.reddit.com/r/dogecoin/comments/ko0...   \n",
            "9711        u/[deleted]  https://www.reddit.com/r/dogecoin/comments/ko0...   \n",
            "9712        u/gfollower  https://www.reddit.com/r/dogecoin/comments/ko1...   \n",
            "9713        u/[deleted]  https://www.reddit.com/r/dogecoin/comments/ko1...   \n",
            "...                 ...                                                ...   \n",
            "992069        u/don-for  https://www.reddit.com/r/dogecoin/comments/rsf...   \n",
            "992070  u/dogeymnemonic  https://www.reddit.com/r/dogecoin/comments/rsf...   \n",
            "992071  u/realitypopper  https://www.reddit.com/r/dogecoin/comments/rsf...   \n",
            "992072   u/lukeiscool22  https://www.reddit.com/r/dogecoin/comments/rsf...   \n",
            "992073    u/marketman57  https://www.reddit.com/r/dogecoin/comments/rsg...   \n",
            "\n",
            "                                                        5       Date  \n",
            "9709    with other coins rallying and stimulus around ... 2021-01-01  \n",
            "9710    are these still a thing? anyways, i'll be tipp... 2021-01-01  \n",
            "9711    https://soundcloud.com/bagelwagel/sets/the-dog... 2021-01-01  \n",
            "9712    so i got dogecoin core and downloaded the boot... 2021-01-01  \n",
            "9713        http://dogecoinpricetracker.000webhostapp.com 2021-01-01  \n",
            "...                                                   ...        ...  \n",
            "992069  so i've just been looking at how much extra ta... 2021-12-31  \n",
            "992070                https://i.redd.it/di6t2yi7or881.jpg 2021-12-31  \n",
            "992071                https://i.redd.it/bsstw03hpr881.jpg 2021-12-31  \n",
            "992072                https://i.redd.it/lylg3o7hpr881.jpg 2021-12-31  \n",
            "992073                https://i.redd.it/cz3acj8fqr881.jpg 2021-12-31  \n",
            "\n",
            "[982365 rows x 7 columns]\n"
          ]
        }
      ]
    },
    {
      "cell_type": "code",
      "source": [
        "file_path = \"/content/drive/MyDrive/Big_Data_Project/Output/crypto_doge_related_posts.csv\"\n",
        "df = pd.read_csv(file_path)"
      ],
      "metadata": {
        "id": "K_eYphEAhL1V"
      },
      "execution_count": null,
      "outputs": []
    },
    {
      "cell_type": "code",
      "source": [
        "df['Date'] = pd.to_datetime(df['1'])"
      ],
      "metadata": {
        "id": "KDqig5YkhZ68"
      },
      "execution_count": null,
      "outputs": []
    },
    {
      "cell_type": "code",
      "source": [
        "start_date = '2021-01-01'\n",
        "end_date = '2021-12-31'\n"
      ],
      "metadata": {
        "id": "QfNKxQ7shZ4H"
      },
      "execution_count": null,
      "outputs": []
    },
    {
      "cell_type": "code",
      "source": [
        "filtered_df = df[(df['1'] >= start_date) & (df['1'] <= end_date)]"
      ],
      "metadata": {
        "id": "04PHMHt8hZ1V"
      },
      "execution_count": null,
      "outputs": []
    },
    {
      "cell_type": "code",
      "source": [
        "print(filtered_df)"
      ],
      "metadata": {
        "id": "zhQwna2VhfZQ",
        "outputId": "1e702d8f-92b5-4a4b-c819-9ef843c8ebb3",
        "colab": {
          "base_uri": "https://localhost:8080/"
        }
      },
      "execution_count": null,
      "outputs": [
        {
          "output_type": "stream",
          "name": "stdout",
          "text": [
            "                1                                                  2  \\\n",
            "425    2021-01-01                                           buy doge   \n",
            "426    2021-01-01  dogecoin, nyancoin, garlicoin, who else believ...   \n",
            "427    2021-01-01                                             doge??   \n",
            "428    2021-01-01                                           buy doge   \n",
            "429    2021-01-02                                           dogecoin   \n",
            "...           ...                                                ...   \n",
            "26525  2021-12-30  how does it feel to lose the life-changing gai...   \n",
            "26526  2021-12-30  which coins did perform better than your expec...   \n",
            "26527  2021-12-30                 crypto was #1 reddit topic of 2021   \n",
            "26528  2021-12-30                          dogecoin triangle pattern   \n",
            "26529  2021-12-31  did anyone get any crypto-related gifts for ch...   \n",
            "\n",
            "                                                       5       Date  \n",
            "425                                            [removed] 2021-01-01  \n",
            "426    i've always been a fan of sh*tcoins and loved ... 2021-01-01  \n",
            "427                                            [removed] 2021-01-01  \n",
            "428                                            [removed] 2021-01-01  \n",
            "429                                            [removed] 2021-01-02  \n",
            "...                                                  ...        ...  \n",
            "26525  we all talk about life changing gains and what... 2021-12-30  \n",
            "26526  i'm curious which coins were an underdog and e... 2021-12-30  \n",
            "26527  https://decrypt.co/89549/crypto-most-viewed-on... 2021-12-30  \n",
            "26528                                          [removed] 2021-12-30  \n",
            "26529  i don't really talk to my friends and family a... 2021-12-31  \n",
            "\n",
            "[26105 rows x 4 columns]\n"
          ]
        }
      ]
    },
    {
      "cell_type": "markdown",
      "source": [
        "# Doge Price File Modification"
      ],
      "metadata": {
        "id": "mD36FFjppe8T"
      }
    },
    {
      "cell_type": "code",
      "source": [
        "#File path\n",
        "price_file = '/content/drive/MyDrive/Big_Data_Project/Price_Data/doge_price_filtered_2021.csv'"
      ],
      "metadata": {
        "id": "WAXVgrtnpklo"
      },
      "execution_count": null,
      "outputs": []
    },
    {
      "cell_type": "code",
      "source": [
        "data = pd.read_csv(price_file)"
      ],
      "metadata": {
        "id": "i982FI5LpkYx"
      },
      "execution_count": null,
      "outputs": []
    },
    {
      "cell_type": "code",
      "source": [
        "# datime format\n",
        "data['Date'] = pd.to_datetime(data['Date'])\n",
        "data.sort_values(by='Date', inplace=True)"
      ],
      "metadata": {
        "id": "c0QWAl_rpq1R"
      },
      "execution_count": null,
      "outputs": []
    },
    {
      "cell_type": "code",
      "source": [
        "# Calculating Returns using Price column\n",
        "data['Returns'] = data['Price'].pct_change()"
      ],
      "metadata": {
        "id": "h2i7EXhWpqzA"
      },
      "execution_count": null,
      "outputs": []
    },
    {
      "cell_type": "code",
      "source": [
        "print(data.head())"
      ],
      "metadata": {
        "colab": {
          "base_uri": "https://localhost:8080/"
        },
        "id": "4bHY-eJRpqwc",
        "outputId": "45067fe3-8d63-4a10-d4e2-b402b2e480e5"
      },
      "execution_count": null,
      "outputs": [
        {
          "output_type": "stream",
          "name": "stdout",
          "text": [
            "          Date     Price      Open      High       Low     Vol. Change %  \\\n",
            "364 2021-01-01  0.005661  0.004666  0.005676  0.004606    8.41B   21.33%   \n",
            "363 2021-01-02  0.010489  0.005667  0.014008  0.005553  100.85B   85.27%   \n",
            "362 2021-01-03  0.009850  0.010493  0.013928  0.009381   71.68B   -6.09%   \n",
            "361 2021-01-04  0.009780  0.009845  0.011493  0.007623   38.72B   -0.71%   \n",
            "360 2021-01-05  0.009958  0.009784  0.010319  0.008866   15.37B    1.82%   \n",
            "\n",
            "           date   Returns  \n",
            "364  2021-01-01       NaN  \n",
            "363  2021-01-02  0.852853  \n",
            "362  2021-01-03 -0.060921  \n",
            "361  2021-01-04 -0.007107  \n",
            "360  2021-01-05  0.018200  \n"
          ]
        }
      ]
    },
    {
      "cell_type": "code",
      "source": [
        "output_file = '/content/drive/MyDrive/Big_Data_Project/Price_Data/returns_doge_price_filtered_2021.csv'\n",
        "data.to_csv(output_file, index=False)\n",
        "print(f\"returns columns included saved: {output_file}\")"
      ],
      "metadata": {
        "colab": {
          "base_uri": "https://localhost:8080/"
        },
        "id": "HsouKVIHp3Kp",
        "outputId": "60c2010d-b9e9-4d65-a481-731fb1a74ebe"
      },
      "execution_count": null,
      "outputs": [
        {
          "output_type": "stream",
          "name": "stdout",
          "text": [
            "returns columns included saved: /content/drive/MyDrive/Big_Data_Project/Price_Data/returns_doge_price_filtered_2021.csv\n"
          ]
        }
      ]
    },
    {
      "cell_type": "markdown",
      "source": [
        "# Pearson Correlation Coefficient"
      ],
      "metadata": {
        "id": "KtmHiOdNFQ9h"
      }
    },
    {
      "cell_type": "code",
      "source": [
        "import pandas as pd\n",
        "import numpy as np\n",
        "from scipy.stats import pearsonr\n",
        "import matplotlib.pyplot as plt"
      ],
      "metadata": {
        "id": "mKPdMxfbFPoo"
      },
      "execution_count": null,
      "outputs": []
    },
    {
      "cell_type": "code",
      "source": [
        "# Load the sentiment data\n",
        "sentiment_file = '/content/drive/MyDrive/Big_Data_Project/Output/entiredoge_sentiment_results_daily.csv'\n",
        "sentiment_df = pd.read_csv(sentiment_file)"
      ],
      "metadata": {
        "id": "TKxRNyP8FPmf"
      },
      "execution_count": null,
      "outputs": []
    },
    {
      "cell_type": "code",
      "source": [
        "# Load the price data\n",
        "price_file = '/content/drive/MyDrive/Big_Data_Project/Price_Data/returns_doge_price_filtered_2021.csv'\n",
        "price_df = pd.read_csv(price_file)"
      ],
      "metadata": {
        "id": "tpZKwRLvJotD"
      },
      "execution_count": null,
      "outputs": []
    },
    {
      "cell_type": "code",
      "source": [
        "# Ensure 'date' is in datetime format for both datasets\n",
        "sentiment_df['date'] = pd.to_datetime(sentiment_df['date'])\n",
        "price_df['date'] = pd.to_datetime(price_df['Date'])"
      ],
      "metadata": {
        "id": "Etz_YP2VJr7V"
      },
      "execution_count": null,
      "outputs": []
    },
    {
      "cell_type": "code",
      "source": [
        "# Define the desired start and end dates\n",
        "start_date = pd.to_datetime('2021-01-01')  # Example start date\n",
        "end_date = pd.to_datetime('2021-12-31')    # Example end date\n"
      ],
      "metadata": {
        "id": "NSc0CMRCSPXP"
      },
      "execution_count": null,
      "outputs": []
    },
    {
      "cell_type": "code",
      "source": [
        "sentiment_df = sentiment_df[(sentiment_df['date'] >= start_date) & (sentiment_df['date'] <= end_date)]\n",
        "price_df = price_df[(price_df['date'] >= start_date) & (price_df['date'] <= end_date)]"
      ],
      "metadata": {
        "id": "OemABsAtJz-b"
      },
      "execution_count": null,
      "outputs": []
    },
    {
      "cell_type": "code",
      "source": [
        "# Merge the datasets on the 'date' column\n",
        "merged_df = pd.merge(sentiment_df, price_df, on='date')"
      ],
      "metadata": {
        "id": "1bM9__BnJz4-"
      },
      "execution_count": null,
      "outputs": []
    },
    {
      "cell_type": "code",
      "source": [
        "# Check the merged data\n",
        "print(merged_df.head())"
      ],
      "metadata": {
        "colab": {
          "base_uri": "https://localhost:8080/"
        },
        "id": "nItrxIUUJz1V",
        "outputId": "993cebd4-038a-4121-ec7d-bc17ca9eb6cc"
      },
      "execution_count": null,
      "outputs": [
        {
          "output_type": "stream",
          "name": "stdout",
          "text": [
            "        date  final_sentiment        Date     Price      Open      High  \\\n",
            "0 2021-01-01         0.085106  2021-01-01  0.005661  0.004666  0.005676   \n",
            "1 2021-01-02         0.005775  2021-01-02  0.010489  0.005667  0.014008   \n",
            "2 2021-01-03         0.056944  2021-01-03  0.009850  0.010493  0.013928   \n",
            "3 2021-01-04         0.039666  2021-01-04  0.009780  0.009845  0.011493   \n",
            "4 2021-01-05         0.052448  2021-01-05  0.009958  0.009784  0.010319   \n",
            "\n",
            "        Low     Vol. Change %   Returns  \n",
            "0  0.004606    8.41B   21.33%       NaN  \n",
            "1  0.005553  100.85B   85.27%  0.852853  \n",
            "2  0.009381   71.68B   -6.09% -0.060921  \n",
            "3  0.007623   38.72B   -0.71% -0.007107  \n",
            "4  0.008866   15.37B    1.82%  0.018200  \n"
          ]
        }
      ]
    },
    {
      "cell_type": "code",
      "source": [
        "from scipy.stats import pearsonr\n",
        "import matplotlib.pyplot as plt"
      ],
      "metadata": {
        "id": "eGZOiXTXJ3Jw"
      },
      "execution_count": null,
      "outputs": []
    },
    {
      "cell_type": "code",
      "source": [
        "# Replace infinite values with NaN\n",
        "merged_df.replace([np.inf, -np.inf], np.nan, inplace=True)\n",
        "\n",
        "# Remove rows with NaN values in the relevant columns\n",
        "merged_df.dropna(subset=['final_sentiment', 'Returns'], inplace=True)\n",
        "\n",
        "# Now, recalculate the Pearson correlation\n",
        "correlation, p_value = pearsonr(merged_df['final_sentiment'], merged_df['Returns'])\n",
        "print(f\"Pearson Correlation (Sentiment vs Returns): {correlation}\")\n",
        "print(f\"p-value: {p_value}\")"
      ],
      "metadata": {
        "colab": {
          "base_uri": "https://localhost:8080/"
        },
        "id": "xR4ReGznq4wV",
        "outputId": "8d6a6f2d-9208-4b9f-8f3c-3d341c7bbde7"
      },
      "execution_count": null,
      "outputs": [
        {
          "output_type": "stream",
          "name": "stdout",
          "text": [
            "Pearson Correlation (Sentiment vs Returns): 0.09600874941442632\n",
            "p-value: 0.06730100284654995\n"
          ]
        }
      ]
    },
    {
      "cell_type": "code",
      "source": [
        "\n",
        "from sklearn.preprocessing import MinMaxScaler\n",
        "scaler = MinMaxScaler()\n"
      ],
      "metadata": {
        "id": "fFiamsQgSeBI"
      },
      "execution_count": null,
      "outputs": []
    },
    {
      "cell_type": "code",
      "source": [
        "merged_df['normalized_sentiment'] = scaler.fit_transform(merged_df[['final_sentiment']])\n",
        "merged_df['normalized_returns'] = scaler.fit_transform(merged_df[['Returns']])"
      ],
      "metadata": {
        "id": "I0t2wvtlRd5n"
      },
      "execution_count": null,
      "outputs": []
    },
    {
      "cell_type": "code",
      "source": [
        "import pandas as pd\n",
        "import matplotlib.pyplot as plt\n",
        "from sklearn.preprocessing import MinMaxScaler\n",
        "\n",
        "fig, ax1 = plt.subplots(figsize=(12, 6))\n",
        "\n",
        "ax1.set_xlabel('Date')\n",
        "ax1.set_ylabel('Normalized Sentiment', color='tab:blue')\n",
        "ax1.plot(merged_df['date'], merged_df['normalized_sentiment'], label='Normalized Sentiment', color='tab:blue')\n",
        "ax1.tick_params(axis='y', labelcolor='tab:blue')\n",
        "\n",
        "ax2 = ax1.twinx()\n",
        "ax2.set_ylabel('Normalized Dogecoin Price Change', color='tab:orange')\n",
        "ax2.plot(merged_df['date'], merged_df['normalized_returns'], label='Normalized Dogecoin Price returns', color='tab:orange')\n",
        "ax2.tick_params(axis='y', labelcolor='tab:orange')\n",
        "\n",
        "fig.suptitle('Comparison of Normalized Sentiment and Normalized Dogecoin Price Change', fontsize=14)\n",
        "fig.tight_layout()\n",
        "ax1.legend(loc='upper left')\n",
        "ax2.legend(loc='upper right')\n",
        "\n",
        "plt.show()\n"
      ],
      "metadata": {
        "colab": {
          "base_uri": "https://localhost:8080/",
          "height": 609
        },
        "id": "kIhJv8DcJ3Ev",
        "outputId": "08f34230-6cc4-436f-b980-f685e6622193"
      },
      "execution_count": null,
      "outputs": [
        {
          "output_type": "display_data",
          "data": {
            "text/plain": [
              "<Figure size 1200x600 with 2 Axes>"
            ],
            "image/png": "[encoded data removed]"
          },
          "metadata": {}
        }
      ]
    },
    {
      "cell_type": "code",
      "source": [
        "import matplotlib.pyplot as plt\n",
        "\n",
        "# Create a figure with one plot\n",
        "fig, ax1 = plt.subplots(figsize=(12, 6))\n",
        "\n",
        "# Plot for Sentiment Score\n",
        "ax1.set_xlabel('Date')\n",
        "ax1.set_ylabel('Sentiment Score', color='tab:blue')\n",
        "ax1.plot(merged_df['date'], merged_df['final_sentiment'], label='Sentiment Score', color='tab:blue')\n",
        "ax1.tick_params(axis='y', labelcolor='tab:blue')\n",
        "\n",
        "# Create a second y-axis for DOGE Price\n",
        "ax2 = ax1.twinx()\n",
        "ax2.set_ylabel('DOGE Price (USD)', color='tab:green')\n",
        "ax2.plot(merged_df['date'], merged_df['Returns'], label='DOGE Price Returns', color='tab:green')\n",
        "ax2.tick_params(axis='y', labelcolor='tab:green')\n",
        "\n",
        "# Add titles and legends\n",
        "fig.suptitle('Comparison of Sentiment Score and DOGE Price Returns Over Time', fontsize=14)\n",
        "fig.tight_layout()  # Adjust layout to prevent overlap\n",
        "ax1.legend(loc='upper left')\n",
        "ax2.legend(loc='upper right')\n",
        "\n",
        "# Show the plot\n",
        "plt.show()\n"
      ],
      "metadata": {
        "colab": {
          "base_uri": "https://localhost:8080/",
          "height": 609
        },
        "id": "zFBVd2DILbqW",
        "outputId": "52a344be-2fb7-444c-ad3a-46799851693b"
      },
      "execution_count": null,
      "outputs": [
        {
          "output_type": "display_data",
          "data": {
            "text/plain": [
              "<Figure size 1200x600 with 2 Axes>"
            ],
            "image/png": "[encoded data removed]"
          },
          "metadata": {}
        }
      ]
    },
    {
      "cell_type": "markdown",
      "source": [
        "# Regression"
      ],
      "metadata": {
        "id": "zgTvOTvzthSj"
      }
    },
    {
      "cell_type": "code",
      "source": [
        "import statsmodels.api as sm"
      ],
      "metadata": {
        "id": "b7ebxNf6tuiw"
      },
      "execution_count": null,
      "outputs": []
    },
    {
      "cell_type": "code",
      "source": [
        "btc_file = '/content/drive/MyDrive/Big_Data_Project/Price_Data/btc_price.csv'\n",
        "\n"
      ],
      "metadata": {
        "id": "5I0knFT9v5OH"
      },
      "execution_count": null,
      "outputs": []
    },
    {
      "cell_type": "code",
      "source": [
        "btc_data = pd.read_csv(btc_file)\n",
        "\n"
      ],
      "metadata": {
        "id": "BUU3voQOv7Bw"
      },
      "execution_count": null,
      "outputs": []
    },
    {
      "cell_type": "code",
      "source": [
        "btc_data['Date'] = pd.to_datetime(btc_data['Date'])\n"
      ],
      "metadata": {
        "id": "C7NZZs57v6-3"
      },
      "execution_count": null,
      "outputs": []
    },
    {
      "cell_type": "code",
      "source": [
        "btc_data = btc_data[(btc_data['Date'] >= '2021-01-01') & (btc_data['Date'] <= '2021-12-31')]\n"
      ],
      "metadata": {
        "id": "gjKdGFczv80u"
      },
      "execution_count": null,
      "outputs": []
    },
    {
      "cell_type": "code",
      "source": [
        "btc_data['Price'] = pd.to_numeric(btc_data['Price'].str.replace(',', '').str.replace('$', ''), errors='coerce')\n",
        "btc_data['Return_btc'] = btc_data['Price'].pct_change()\n"
      ],
      "metadata": {
        "id": "HggVIwQ0v8yI"
      },
      "execution_count": null,
      "outputs": []
    },
    {
      "cell_type": "code",
      "source": [
        "# eliminating NaN\n",
        "btc_data = btc_data.dropna()\n"
      ],
      "metadata": {
        "id": "WwHATqUnv8vx"
      },
      "execution_count": null,
      "outputs": []
    },
    {
      "cell_type": "code",
      "source": [
        "print(btc_data)"
      ],
      "metadata": {
        "colab": {
          "base_uri": "https://localhost:8080/"
        },
        "id": "UALwJXsxwHaD",
        "outputId": "c93a72ac-e15a-4b8c-df86-5143540e3680"
      },
      "execution_count": null,
      "outputs": [
        {
          "output_type": "stream",
          "name": "stdout",
          "text": [
            "           Date    Price      Open      High       Low    Vol. Change %  \\\n",
            "1076 2021-12-30  47156.0  46,465.0  47,911.0  45,996.0   3.20K    1.49%   \n",
            "1077 2021-12-29  46465.0  47,554.0  48,166.0  46,129.0   4.12K   -2.29%   \n",
            "1078 2021-12-28  47554.0  50,684.0  50,710.0  47,339.0   5.43K   -6.18%   \n",
            "1079 2021-12-27  50684.0  50,797.0  52,027.0  50,483.0   3.52K   -0.22%   \n",
            "1080 2021-12-26  50797.0  50,435.2  51,281.0  49,473.0   2.90K    0.71%   \n",
            "...         ...      ...       ...       ...       ...     ...      ...   \n",
            "1435 2021-01-05  33996.0  32,020.0  33,996.0  30,979.1  14.48K    6.17%   \n",
            "1436 2021-01-04  32020.0  32,971.0  33,403.0  29,178.0  24.68K   -2.88%   \n",
            "1437 2021-01-03  32971.0  32,183.0  34,253.0  32,110.0  18.91K    2.44%   \n",
            "1438 2021-01-02  32185.0  29,346.0  33,168.0  29,192.0  22.01K    9.67%   \n",
            "1439 2021-01-01  29346.0  28,933.0  29,498.0  28,932.0   8.33K    1.43%   \n",
            "\n",
            "      Return_btc  \n",
            "1076    0.020295  \n",
            "1077   -0.014653  \n",
            "1078    0.023437  \n",
            "1079    0.065820  \n",
            "1080    0.002230  \n",
            "...          ...  \n",
            "1435   -0.075065  \n",
            "1436   -0.058124  \n",
            "1437    0.029700  \n",
            "1438   -0.023839  \n",
            "1439   -0.088209  \n",
            "\n",
            "[364 rows x 8 columns]\n"
          ]
        }
      ]
    },
    {
      "cell_type": "code",
      "source": [
        "doge_file = '/content/drive/MyDrive/Big_Data_Project/Price_Data/returns_doge_price_filtered_2021.csv'"
      ],
      "metadata": {
        "id": "f05WTX8eW8Ag"
      },
      "execution_count": null,
      "outputs": []
    },
    {
      "cell_type": "code",
      "source": [
        "# Ensure 'Date' is in datetime format for both datasets\n",
        "doge_df = pd.read_csv(doge_file)  # Load the dogecoin data into a DataFrame\n",
        "doge_df['Date'] = pd.to_datetime(doge_df['Date'])  # Convert 'Date' to datetime\n",
        "btc_data['Date'] = pd.to_datetime(btc_data['Date'])  # Convert 'Date' to datetime\n",
        "\n",
        "# Now, perform the merge\n",
        "btc_merged_df = pd.merge(merged_df, btc_data, on='Date')"
      ],
      "metadata": {
        "id": "iziKaAySW792"
      },
      "execution_count": null,
      "outputs": []
    },
    {
      "cell_type": "code",
      "source": [
        "print(btc_merged_df)"
      ],
      "metadata": {
        "colab": {
          "base_uri": "https://localhost:8080/"
        },
        "id": "fxBNpjgHW762",
        "outputId": "e7cd5c4b-6145-4a6f-9799-81e42b4a35aa"
      },
      "execution_count": null,
      "outputs": [
        {
          "output_type": "stream",
          "name": "stdout",
          "text": [
            "          date  final_sentiment       Date   Price_x    Open_x    High_x  \\\n",
            "0   2021-01-02         0.005775 2021-01-02  0.010489  0.005667  0.014008   \n",
            "1   2021-01-03         0.056944 2021-01-03  0.009850  0.010493  0.013928   \n",
            "2   2021-01-04         0.039666 2021-01-04  0.009780  0.009845  0.011493   \n",
            "3   2021-01-05         0.052448 2021-01-05  0.009958  0.009784  0.010319   \n",
            "4   2021-01-06         0.023490 2021-01-06  0.010443  0.009960  0.010968   \n",
            "..         ...              ...        ...       ...       ...       ...   \n",
            "358 2021-12-26         0.063218 2021-12-26  0.189756  0.190581  0.192471   \n",
            "359 2021-12-27         0.039216 2021-12-27  0.187748  0.189775  0.192787   \n",
            "360 2021-12-28         0.015625 2021-12-28  0.173805  0.187786  0.187915   \n",
            "361 2021-12-29         0.045139 2021-12-29  0.167849  0.173814  0.177313   \n",
            "362 2021-12-30         0.049834 2021-12-30  0.171028  0.167867  0.175694   \n",
            "\n",
            "        Low_x   Vol._x Change %_x   Returns  normalized_sentiment  \\\n",
            "0    0.005553  100.85B     85.27%  0.852853              0.518459   \n",
            "1    0.009381   71.68B     -6.09% -0.060921              0.745427   \n",
            "2    0.007623   38.72B     -0.71% -0.007107              0.668787   \n",
            "3    0.008866   15.37B      1.82%  0.018200              0.725481   \n",
            "4    0.009652   16.84B      4.87%  0.048705              0.597036   \n",
            "..        ...      ...        ...       ...                   ...   \n",
            "358  0.185259  909.53M     -0.41% -0.004109              0.773256   \n",
            "359  0.187022    1.01B     -1.06% -0.010582              0.666789   \n",
            "360  0.172172    1.65B     -7.43% -0.074264              0.562151   \n",
            "361  0.166564    1.31B     -3.43% -0.034268              0.693062   \n",
            "362  0.165382  911.70M      1.89%  0.018940              0.713888   \n",
            "\n",
            "     normalized_change  normalized_returns  Price_y    Open_y    High_y  \\\n",
            "0             0.292307            0.292307  32185.0  29,346.0  33,168.0   \n",
            "1             0.078236            0.078236  32971.0  32,183.0  34,253.0   \n",
            "2             0.090843            0.090843  32020.0  32,971.0  33,403.0   \n",
            "3             0.096772            0.096772  33996.0  32,020.0  33,996.0   \n",
            "4             0.103918            0.103918  36755.0  33,986.0  36,755.0   \n",
            "..                 ...                 ...      ...       ...       ...   \n",
            "358           0.091545            0.091545  50797.0  50,435.2  51,281.0   \n",
            "359           0.090029            0.090029  50684.0  50,797.0  52,027.0   \n",
            "360           0.075110            0.075110  47554.0  50,684.0  50,710.0   \n",
            "361           0.084480            0.084480  46465.0  47,554.0  48,166.0   \n",
            "362           0.096945            0.096945  47156.0  46,465.0  47,911.0   \n",
            "\n",
            "        Low_y  Vol._y Change %_y  Return_btc  \n",
            "0    29,192.0  22.01K      9.67%   -0.023839  \n",
            "1    32,110.0  18.91K      2.44%    0.029700  \n",
            "2    29,178.0  24.68K     -2.88%   -0.058124  \n",
            "3    30,979.1  14.48K      6.17%   -0.075065  \n",
            "4    33,901.0  18.62K      8.12%   -0.067298  \n",
            "..        ...     ...        ...         ...  \n",
            "358  49,473.0   2.90K      0.71%    0.002230  \n",
            "359  50,483.0   3.52K     -0.22%    0.065820  \n",
            "360  47,339.0   5.43K     -6.18%    0.023437  \n",
            "361  46,129.0   4.12K     -2.29%   -0.014653  \n",
            "362  45,996.0   3.20K      1.49%    0.020295  \n",
            "\n",
            "[363 rows x 20 columns]\n"
          ]
        }
      ]
    },
    {
      "cell_type": "code",
      "source": [
        "btc_merged_df.rename(columns={'final_sentiment': 'doge_sentiment_score'}, inplace=True)"
      ],
      "metadata": {
        "id": "tkj8SsvD1HlV"
      },
      "execution_count": null,
      "outputs": []
    },
    {
      "cell_type": "code",
      "source": [
        "spy_file = '/content/drive/MyDrive/Big_Data_Project/Price_Data/spy_price.csv'"
      ],
      "metadata": {
        "id": "GmluLuphUGos"
      },
      "execution_count": null,
      "outputs": []
    },
    {
      "cell_type": "code",
      "source": [
        "spy_data = pd.read_csv(spy_file)"
      ],
      "metadata": {
        "id": "hffOiXi1UGmD"
      },
      "execution_count": null,
      "outputs": []
    },
    {
      "cell_type": "code",
      "source": [
        "spy_data['Date'] = pd.to_datetime(spy_data['Date'])"
      ],
      "metadata": {
        "id": "fh4AVgtLUGjh"
      },
      "execution_count": null,
      "outputs": []
    },
    {
      "cell_type": "code",
      "source": [
        "print(\"date frame:\", spy_data['Date'].min(), \"to\", spy_data['Date'].max())\n"
      ],
      "metadata": {
        "colab": {
          "base_uri": "https://localhost:8080/"
        },
        "id": "bvTVw3j2fC_D",
        "outputId": "d8c4b387-5c54-4652-9c41-4b1a059b2b5f"
      },
      "execution_count": null,
      "outputs": [
        {
          "output_type": "stream",
          "name": "stdout",
          "text": [
            "date frame: 2021-01-04 00:00:00 to 2021-12-31 00:00:00\n"
          ]
        }
      ]
    },
    {
      "cell_type": "code",
      "source": [
        "spy_data = spy_data[(spy_data['Date'] >= '2021-01-01') & (spy_data['Date'] <= '2021-12-31')]"
      ],
      "metadata": {
        "id": "-EK9gmbbUGgv"
      },
      "execution_count": null,
      "outputs": []
    },
    {
      "cell_type": "code",
      "source": [
        "print(spy_data)"
      ],
      "metadata": {
        "colab": {
          "base_uri": "https://localhost:8080/"
        },
        "id": "5TrBN7mDUGV1",
        "outputId": "280dd481-1b59-41c6-ffb8-18cfe8525c41"
      },
      "execution_count": null,
      "outputs": [
        {
          "output_type": "stream",
          "name": "stdout",
          "text": [
            "          Date     Price      Open      High       Low Vol. Change %\n",
            "739 2021-12-31  4,766.20  4,775.20  4,786.80  4,765.80  NaN   -0.26%\n",
            "740 2021-12-30  4,778.70  4,794.20  4,808.90  4,775.30  NaN   -0.30%\n",
            "741 2021-12-29  4,793.10  4,788.60  4,804.10  4,778.10  NaN    0.14%\n",
            "742 2021-12-28  4,786.40  4,795.50  4,807.00  4,780.00  NaN   -0.10%\n",
            "743 2021-12-27  4,791.20  4,734.00  4,791.50  4,734.00  NaN    1.38%\n",
            "..         ...       ...       ...       ...       ...  ...      ...\n",
            "986 2021-01-08  3,824.70  3,815.10  3,826.70  3,783.60  NaN    0.55%\n",
            "987 2021-01-07  3,803.80  3,764.70  3,811.60  3,764.70  NaN    1.49%\n",
            "988 2021-01-06  3,748.10  3,712.20  3,783.00  3,705.30  NaN    0.57%\n",
            "989 2021-01-05  3,726.90  3,698.00  3,737.80  3,695.10  NaN    0.71%\n",
            "990 2021-01-04  3,700.70  3,764.60  3,770.00  3,662.70  NaN   -1.47%\n",
            "\n",
            "[252 rows x 7 columns]\n"
          ]
        }
      ]
    },
    {
      "cell_type": "code",
      "source": [
        "spy_data['Price'] = pd.to_numeric(spy_data['Price'].str.replace(',', '').str.replace('$', ''), errors='coerce')\n",
        "spy_data['Return_spy'] = spy_data['Price'].pct_change()"
      ],
      "metadata": {
        "id": "8hheTyRJUXNq"
      },
      "execution_count": null,
      "outputs": []
    },
    {
      "cell_type": "code",
      "source": [
        "print(spy_data)"
      ],
      "metadata": {
        "colab": {
          "base_uri": "https://localhost:8080/"
        },
        "id": "8zGveILiUXLE",
        "outputId": "8399073d-cd4c-4375-92f7-4eaac6fcaceb"
      },
      "execution_count": null,
      "outputs": [
        {
          "output_type": "stream",
          "name": "stdout",
          "text": [
            "          Date   Price      Open      High       Low Vol. Change %  Return_spy\n",
            "739 2021-12-31  4766.2  4,775.20  4,786.80  4,765.80  NaN   -0.26%         NaN\n",
            "740 2021-12-30  4778.7  4,794.20  4,808.90  4,775.30  NaN   -0.30%    0.002623\n",
            "741 2021-12-29  4793.1  4,788.60  4,804.10  4,778.10  NaN    0.14%    0.003013\n",
            "742 2021-12-28  4786.4  4,795.50  4,807.00  4,780.00  NaN   -0.10%   -0.001398\n",
            "743 2021-12-27  4791.2  4,734.00  4,791.50  4,734.00  NaN    1.38%    0.001003\n",
            "..         ...     ...       ...       ...       ...  ...      ...         ...\n",
            "986 2021-01-08  3824.7  3,815.10  3,826.70  3,783.60  NaN    0.55%    0.006606\n",
            "987 2021-01-07  3803.8  3,764.70  3,811.60  3,764.70  NaN    1.49%   -0.005464\n",
            "988 2021-01-06  3748.1  3,712.20  3,783.00  3,705.30  NaN    0.57%   -0.014643\n",
            "989 2021-01-05  3726.9  3,698.00  3,737.80  3,695.10  NaN    0.71%   -0.005656\n",
            "990 2021-01-04  3700.7  3,764.60  3,770.00  3,662.70  NaN   -1.47%   -0.007030\n",
            "\n",
            "[252 rows x 8 columns]\n"
          ]
        }
      ]
    },
    {
      "cell_type": "code",
      "source": [
        "# Ensure 'Date' is in datetime format for both datasets\n",
        "btc_merged_df['Date'] = pd.to_datetime(btc_merged_df['Date'])  # Convert 'Date' in merged_df to datetime\n",
        "spy_data['Date'] = pd.to_datetime(spy_data['Date'])  # Convert 'Date' in btc_data to datetime\n",
        "\n",
        "# Now, perform the merge\n",
        "btcspy_merged_df = pd.merge(btc_merged_df, spy_data, on='Date')"
      ],
      "metadata": {
        "id": "zVUJuTS-UXIj"
      },
      "execution_count": null,
      "outputs": []
    },
    {
      "cell_type": "code",
      "source": [
        "print(btcspy_merged_df)"
      ],
      "metadata": {
        "colab": {
          "base_uri": "https://localhost:8080/"
        },
        "id": "ZpFiMJNlUXFC",
        "outputId": "08d9921d-aea0-4ebe-e10d-791dffd649eb"
      },
      "execution_count": null,
      "outputs": [
        {
          "output_type": "stream",
          "name": "stdout",
          "text": [
            "          date  doge_sentiment_score       Date   Price_x    Open_x    High_x  \\\n",
            "0   2021-01-06              0.023490 2021-01-06  0.010443  0.009960  0.010968   \n",
            "1   2021-01-07              0.011278 2021-01-07  0.009724  0.010443  0.010497   \n",
            "2   2021-01-08              0.059633 2021-01-08  0.009753  0.009728  0.010253   \n",
            "3   2021-01-11              0.028369 2021-01-11  0.008828  0.009829  0.009846   \n",
            "4   2021-01-12              0.006667 2021-01-12  0.008066  0.008824  0.009136   \n",
            "..         ...                   ...        ...       ...       ...       ...   \n",
            "244 2021-12-23              0.048711 2021-12-23  0.184817  0.173029  0.184817   \n",
            "245 2021-12-27              0.039216 2021-12-27  0.187748  0.189775  0.192787   \n",
            "246 2021-12-28              0.015625 2021-12-28  0.173805  0.187786  0.187915   \n",
            "247 2021-12-29              0.045139 2021-12-29  0.167849  0.173814  0.177313   \n",
            "248 2021-12-30              0.049834 2021-12-30  0.171028  0.167867  0.175694   \n",
            "\n",
            "        Low_x   Vol._x Change %_x   Returns  ...  lagged_return_1  \\\n",
            "0    0.009652   16.84B      4.87%  0.048705  ...         0.018200   \n",
            "1    0.008972    7.15B     -6.88% -0.068850  ...         0.048705   \n",
            "2    0.008834    5.48B      0.29%  0.002982  ...        -0.068850   \n",
            "3    0.006727   11.36B    -10.20% -0.102024  ...        -0.032191   \n",
            "4    0.007848    5.99B     -8.63% -0.086316  ...        -0.102024   \n",
            "..        ...      ...        ...       ...  ...              ...   \n",
            "244  0.171401    1.70B      6.86%  0.068628  ...         0.012392   \n",
            "245  0.187022    1.01B     -1.06% -0.010582  ...        -0.004109   \n",
            "246  0.172172    1.65B     -7.43% -0.074264  ...        -0.010582   \n",
            "247  0.166564    1.31B     -3.43% -0.034268  ...        -0.074264   \n",
            "248  0.165382  911.70M      1.89%  0.018940  ...        -0.034268   \n",
            "\n",
            "     lagged_return_2  lagged_sentiment   Price      Open      High       Low  \\\n",
            "0          -0.007107          0.052448  3748.1  3,712.20  3,783.00  3,705.30   \n",
            "1           0.018200          0.023490  3803.8  3,764.70  3,811.60  3,764.70   \n",
            "2           0.048705          0.011278  3824.7  3,815.10  3,826.70  3,783.60   \n",
            "3           0.041526          0.004717  3799.6  3,803.10  3,817.90  3,789.00   \n",
            "4          -0.032191          0.028369  3801.2  3,801.60  3,810.80  3,776.50   \n",
            "..               ...               ...     ...       ...       ...       ...   \n",
            "244         0.022432          0.062500  4725.8  4,704.00  4,740.70  4,704.00   \n",
            "245         0.022995          0.063218  4791.2  4,734.00  4,791.50  4,734.00   \n",
            "246        -0.004109          0.039216  4786.4  4,795.50  4,807.00  4,780.00   \n",
            "247        -0.010582          0.015625  4793.1  4,788.60  4,804.10  4,778.10   \n",
            "248        -0.074264          0.045139  4778.7  4,794.20  4,808.90  4,775.30   \n",
            "\n",
            "    Vol. Change %  Return_spy  \n",
            "0    NaN    0.57%   -0.014643  \n",
            "1    NaN    1.49%   -0.005464  \n",
            "2    NaN    0.55%    0.006606  \n",
            "3    NaN   -0.66%   -0.000421  \n",
            "4    NaN    0.04%   -0.002257  \n",
            "..   ...      ...         ...  \n",
            "244  NaN    0.62%   -0.013650  \n",
            "245  NaN    1.38%    0.001003  \n",
            "246  NaN   -0.10%   -0.001398  \n",
            "247  NaN    0.14%    0.003013  \n",
            "248  NaN   -0.30%    0.002623  \n",
            "\n",
            "[249 rows x 30 columns]\n"
          ]
        }
      ]
    },
    {
      "cell_type": "code",
      "source": [
        "btcspy_merged_df.shape"
      ],
      "metadata": {
        "colab": {
          "base_uri": "https://localhost:8080/"
        },
        "id": "nRP2MoejYlsK",
        "outputId": "5577db0f-ac9a-4b96-c3df-e2230bf83629"
      },
      "execution_count": null,
      "outputs": [
        {
          "output_type": "execute_result",
          "data": {
            "text/plain": [
              "(251, 27)"
            ]
          },
          "metadata": {},
          "execution_count": 156
        }
      ]
    },
    {
      "cell_type": "code",
      "source": [
        "# sort by date\n",
        "btc_merged_df['date'] = pd.to_datetime(btc_merged_df['date'])\n",
        "btc_merged_df.sort_values('date', inplace=True)\n",
        "\n",
        "# Lagged Features\n",
        "btc_merged_df['lagged_return_1'] = btc_merged_df['Returns'].shift(1)\n",
        "btc_merged_df['lagged_return_2'] = btc_merged_df['Returns'].shift(2)\n",
        "btc_merged_df['lagged_sentiment'] = btc_merged_df['doge_sentiment_score'].shift(1)\n",
        "\n",
        "\n",
        "# eliminating NaN\n",
        "btc_merged_df = btc_merged_df.dropna()\n",
        "\n",
        "# defining Y and Xs\n",
        "y = btc_merged_df['Returns']  # Dependent variable\n",
        "X = btc_merged_df[[\"doge_sentiment_score\", 'lagged_sentiment', 'lagged_return_1','lagged_return_2','Return_btc']]  # Independent variables\n",
        "\n",
        "# cons.\n",
        "X = sm.add_constant(X)\n",
        "\n",
        "# OLS\n",
        "model = sm.OLS(y, X).fit()\n",
        "\n",
        "print(model.summary())"
      ],
      "metadata": {
        "colab": {
          "base_uri": "https://localhost:8080/"
        },
        "id": "Ia8gnDpSad1R",
        "outputId": "8eed5498-c538-41c6-cfa8-13fc47ead096"
      },
      "execution_count": null,
      "outputs": [
        {
          "output_type": "stream",
          "name": "stdout",
          "text": [
            "                            OLS Regression Results                            \n",
            "==============================================================================\n",
            "Dep. Variable:                Returns   R-squared:                       0.023\n",
            "Model:                            OLS   Adj. R-squared:                  0.009\n",
            "Method:                 Least Squares   F-statistic:                     1.634\n",
            "Date:                Fri, 20 Dec 2024   Prob (F-statistic):              0.150\n",
            "Time:                        23:32:13   Log-Likelihood:                 19.857\n",
            "No. Observations:                 359   AIC:                            -27.71\n",
            "Df Residuals:                     353   BIC:                            -4.415\n",
            "Df Model:                           5                                         \n",
            "Covariance Type:            nonrobust                                         \n",
            "========================================================================================\n",
            "                           coef    std err          t      P>|t|      [0.025      0.975]\n",
            "----------------------------------------------------------------------------------------\n",
            "const                   -0.0518      0.034     -1.507      0.133      -0.120       0.016\n",
            "doge_sentiment_score     1.5638      0.720      2.172      0.030       0.148       2.980\n",
            "lagged_sentiment         0.5247      0.725      0.724      0.470      -0.901       1.950\n",
            "lagged_return_1          0.0215      0.053      0.404      0.686      -0.083       0.126\n",
            "lagged_return_2         -0.0687      0.053     -1.296      0.196      -0.173       0.036\n",
            "Return_btc              -0.1451      0.292     -0.497      0.619      -0.719       0.429\n",
            "==============================================================================\n",
            "Omnibus:                      719.506   Durbin-Watson:                   1.997\n",
            "Prob(Omnibus):                  0.000   Jarque-Bera (JB):           699333.721\n",
            "Skew:                          13.245   Prob(JB):                         0.00\n",
            "Kurtosis:                     217.593   Cond. No.                         64.2\n",
            "==============================================================================\n",
            "\n",
            "Notes:\n",
            "[1] Standard Errors assume that the covariance matrix of the errors is correctly specified.\n"
          ]
        }
      ]
    },
    {
      "cell_type": "code",
      "source": [
        "# lagged return\n",
        "btcspy_merged_df['lagged_sentiment'] = btcspy_merged_df['doge_sentiment_score'].shift(1)\n",
        "btcspy_merged_df['lagged_return_1'] = btcspy_merged_df['Returns'].shift(1)\n",
        "btcspy_merged_df['lagged_return_2'] = btcspy_merged_df['Returns'].shift(2)\n",
        "\n",
        "#dropping NA\n",
        "btcspy_merged_df = btcspy_merged_df.dropna(subset=['lagged_sentiment', 'lagged_return_1', 'lagged_return_2'])\n",
        "\n",
        "#regress\n",
        "y = btcspy_merged_df['Returns']\n",
        "X = btcspy_merged_df[[\"doge_sentiment_score\", 'lagged_sentiment', 'lagged_return_1',\n",
        "                      'lagged_return_2', 'Return_btc', 'Return_spy']]\n",
        "\n",
        "# consonants\n",
        "X = sm.add_constant(X)\n",
        "\n",
        "# OLS model\n",
        "model = sm.OLS(y, X)\n",
        "results = model.fit()\n",
        "\n",
        "\n",
        "print(results.summary())\n"
      ],
      "metadata": {
        "colab": {
          "base_uri": "https://localhost:8080/"
        },
        "id": "Zs5sCIi4YYQ_",
        "outputId": "8a0cd357-589d-443c-f47b-ddbf57cd307c"
      },
      "execution_count": null,
      "outputs": [
        {
          "output_type": "stream",
          "name": "stdout",
          "text": [
            "                            OLS Regression Results                            \n",
            "==============================================================================\n",
            "Dep. Variable:                Returns   R-squared:                       0.049\n",
            "Model:                            OLS   Adj. R-squared:                  0.025\n",
            "Method:                 Least Squares   F-statistic:                     2.043\n",
            "Date:                Fri, 20 Dec 2024   Prob (F-statistic):             0.0608\n",
            "Time:                        23:33:10   Log-Likelihood:                -23.871\n",
            "No. Observations:                 245   AIC:                             61.74\n",
            "Df Residuals:                     238   BIC:                             86.25\n",
            "Df Model:                           6                                         \n",
            "Covariance Type:            nonrobust                                         \n",
            "========================================================================================\n",
            "                           coef    std err          t      P>|t|      [0.025      0.975]\n",
            "----------------------------------------------------------------------------------------\n",
            "const                   -0.0669      0.048     -1.388      0.166      -0.162       0.028\n",
            "doge_sentiment_score     1.7736      1.032      1.718      0.087      -0.260       3.807\n",
            "lagged_sentiment         1.0808      1.039      1.040      0.299      -0.966       3.128\n",
            "lagged_return_1          0.0742      0.064      1.156      0.249      -0.052       0.201\n",
            "lagged_return_2         -0.0067      0.064     -0.105      0.917      -0.132       0.119\n",
            "Return_btc              -0.2788      0.434     -0.642      0.522      -1.134       0.577\n",
            "Return_spy               5.8100      2.181      2.664      0.008       1.513      10.107\n",
            "==============================================================================\n",
            "Omnibus:                      467.054   Durbin-Watson:                   1.973\n",
            "Prob(Omnibus):                  0.000   Jarque-Bera (JB):           224090.728\n",
            "Skew:                          10.960   Prob(JB):                         0.00\n",
            "Kurtosis:                     149.531   Cond. No.                         127.\n",
            "==============================================================================\n",
            "\n",
            "Notes:\n",
            "[1] Standard Errors assume that the covariance matrix of the errors is correctly specified.\n"
          ]
        }
      ]
    },
    {
      "cell_type": "code",
      "source": [
        "cryotp_file= '/content/drive/MyDrive/Big_Data_Project/Output/crypto_Merged_Sentiment_Results_Daily.csv'\n",
        "\n"
      ],
      "metadata": {
        "id": "8B2XA4kQw6qk"
      },
      "execution_count": null,
      "outputs": []
    },
    {
      "cell_type": "code",
      "source": [
        "crypto_data = pd.read_csv(cryotp_file)"
      ],
      "metadata": {
        "id": "P1Qujne_xGM0"
      },
      "execution_count": null,
      "outputs": []
    },
    {
      "cell_type": "code",
      "source": [
        "print(crypto_data)"
      ],
      "metadata": {
        "colab": {
          "base_uri": "https://localhost:8080/"
        },
        "id": "G5oQPg92zKOk",
        "outputId": "cb00f5ab-ca42-434e-c7d7-0302fb2c404d"
      },
      "execution_count": null,
      "outputs": [
        {
          "output_type": "stream",
          "name": "stdout",
          "text": [
            "     Unnamed: 0        date  final_sentiment\n",
            "0             0  2020-01-03         0.000000\n",
            "1             1  2020-01-04         0.000000\n",
            "2             2  2020-01-05         0.000000\n",
            "3             3  2020-01-10         0.000000\n",
            "4             4  2020-01-14         0.000000\n",
            "..          ...         ...              ...\n",
            "530         530  2021-12-27         0.114286\n",
            "531         531  2021-12-28        -0.032258\n",
            "532         532  2021-12-29         0.111111\n",
            "533         533  2021-12-30         0.080000\n",
            "534         534  2021-12-31         0.000000\n",
            "\n",
            "[535 rows x 3 columns]\n"
          ]
        }
      ]
    },
    {
      "cell_type": "code",
      "source": [
        "# Ensure 'Date' is in datetime format for both datasets\n",
        "btcspy_merged_df['Date'] = pd.to_datetime(btcspy_merged_df['Date'])  # Convert 'Date' in merged_df to datetime\n",
        "crypto_data['date'] = pd.to_datetime(crypto_data['date'])  # Convert 'Date' in btc_data to datetime\n",
        "\n",
        "# Now, perform the merge\n",
        "everything_merged_df = pd.merge(btcspy_merged_df, crypto_data, on='date')"
      ],
      "metadata": {
        "id": "QXVCLcibxGHh"
      },
      "execution_count": null,
      "outputs": []
    },
    {
      "cell_type": "code",
      "source": [
        "print(everything_merged_df)"
      ],
      "metadata": {
        "colab": {
          "base_uri": "https://localhost:8080/"
        },
        "id": "jp_z6P5AzPvo",
        "outputId": "1f8f5517-2058-4ea7-b074-85e4ed7f6fff"
      },
      "execution_count": null,
      "outputs": [
        {
          "output_type": "stream",
          "name": "stdout",
          "text": [
            "          date  doge_sentiment_score       Date   Price_x    Open_x    High_x  \\\n",
            "0   2021-01-06              0.023490 2021-01-06  0.010443  0.009960  0.010968   \n",
            "1   2021-01-07              0.011278 2021-01-07  0.009724  0.010443  0.010497   \n",
            "2   2021-01-08              0.059633 2021-01-08  0.009753  0.009728  0.010253   \n",
            "3   2021-01-11              0.028369 2021-01-11  0.008828  0.009829  0.009846   \n",
            "4   2021-01-12              0.006667 2021-01-12  0.008066  0.008824  0.009136   \n",
            "..         ...                   ...        ...       ...       ...       ...   \n",
            "244 2021-12-23              0.048711 2021-12-23  0.184817  0.173029  0.184817   \n",
            "245 2021-12-27              0.039216 2021-12-27  0.187748  0.189775  0.192787   \n",
            "246 2021-12-28              0.015625 2021-12-28  0.173805  0.187786  0.187915   \n",
            "247 2021-12-29              0.045139 2021-12-29  0.167849  0.173814  0.177313   \n",
            "248 2021-12-30              0.049834 2021-12-30  0.171028  0.167867  0.175694   \n",
            "\n",
            "        Low_x   Vol._x Change %_x   Returns  ...  lagged_sentiment   Price  \\\n",
            "0    0.009652   16.84B      4.87%  0.048705  ...          0.052448  3748.1   \n",
            "1    0.008972    7.15B     -6.88% -0.068850  ...          0.023490  3803.8   \n",
            "2    0.008834    5.48B      0.29%  0.002982  ...          0.011278  3824.7   \n",
            "3    0.006727   11.36B    -10.20% -0.102024  ...          0.004717  3799.6   \n",
            "4    0.007848    5.99B     -8.63% -0.086316  ...          0.028369  3801.2   \n",
            "..        ...      ...        ...       ...  ...               ...     ...   \n",
            "244  0.171401    1.70B      6.86%  0.068628  ...          0.062500  4725.8   \n",
            "245  0.187022    1.01B     -1.06% -0.010582  ...          0.063218  4791.2   \n",
            "246  0.172172    1.65B     -7.43% -0.074264  ...          0.039216  4786.4   \n",
            "247  0.166564    1.31B     -3.43% -0.034268  ...          0.015625  4793.1   \n",
            "248  0.165382  911.70M      1.89%  0.018940  ...          0.045139  4778.7   \n",
            "\n",
            "         Open      High       Low Vol. Change % Return_spy Unnamed: 0  \\\n",
            "0    3,712.20  3,783.00  3,705.30  NaN    0.57%  -0.014643        175   \n",
            "1    3,764.70  3,811.60  3,764.70  NaN    1.49%  -0.005464        176   \n",
            "2    3,815.10  3,826.70  3,783.60  NaN    0.55%   0.006606        177   \n",
            "3    3,803.10  3,817.90  3,789.00  NaN   -0.66%  -0.000421        180   \n",
            "4    3,801.60  3,810.80  3,776.50  NaN    0.04%  -0.002257        181   \n",
            "..        ...       ...       ...  ...      ...        ...        ...   \n",
            "244  4,704.00  4,740.70  4,704.00  NaN    0.62%  -0.013650        526   \n",
            "245  4,734.00  4,791.50  4,734.00  NaN    1.38%   0.001003        530   \n",
            "246  4,795.50  4,807.00  4,780.00  NaN   -0.10%  -0.001398        531   \n",
            "247  4,788.60  4,804.10  4,778.10  NaN    0.14%   0.003013        532   \n",
            "248  4,794.20  4,808.90  4,775.30  NaN   -0.30%   0.002623        533   \n",
            "\n",
            "     final_sentiment  \n",
            "0           0.000000  \n",
            "1           0.000000  \n",
            "2           0.000000  \n",
            "3           0.600000  \n",
            "4           0.000000  \n",
            "..               ...  \n",
            "244         0.088235  \n",
            "245         0.114286  \n",
            "246        -0.032258  \n",
            "247         0.111111  \n",
            "248         0.080000  \n",
            "\n",
            "[249 rows x 32 columns]\n"
          ]
        }
      ]
    },
    {
      "cell_type": "code",
      "source": [
        "everything_merged_df.rename(columns={'final_sentiment': 'crypto_sentiment_score'}, inplace=True)"
      ],
      "metadata": {
        "id": "oORHa88kzZMN"
      },
      "execution_count": null,
      "outputs": []
    },
    {
      "cell_type": "code",
      "source": [
        "#regress\n",
        "y = everything_merged_df['Returns']\n",
        "X = everything_merged_df[[\"doge_sentiment_score\",'crypto_sentiment_score', 'lagged_sentiment', 'lagged_return_1',\n",
        "                      'lagged_return_2', 'Return_btc', 'Return_spy']]\n",
        "\n",
        "# consonants\n",
        "X = sm.add_constant(X)\n",
        "\n",
        "# OLS model\n",
        "model = sm.OLS(y, X)\n",
        "results = model.fit()\n",
        "\n",
        "\n",
        "print(results.summary())"
      ],
      "metadata": {
        "colab": {
          "base_uri": "https://localhost:8080/"
        },
        "id": "U6e0h9-mzcao",
        "outputId": "87c1ad6d-5db8-452e-b730-9fce090f5f19"
      },
      "execution_count": null,
      "outputs": [
        {
          "output_type": "stream",
          "name": "stdout",
          "text": [
            "                            OLS Regression Results                            \n",
            "==============================================================================\n",
            "Dep. Variable:                Returns   R-squared:                       0.048\n",
            "Model:                            OLS   Adj. R-squared:                  0.021\n",
            "Method:                 Least Squares   F-statistic:                     1.746\n",
            "Date:                Sat, 21 Dec 2024   Prob (F-statistic):             0.0991\n",
            "Time:                        01:22:58   Log-Likelihood:                -22.520\n",
            "No. Observations:                 249   AIC:                             61.04\n",
            "Df Residuals:                     241   BIC:                             89.18\n",
            "Df Model:                           7                                         \n",
            "Covariance Type:            nonrobust                                         \n",
            "==========================================================================================\n",
            "                             coef    std err          t      P>|t|      [0.025      0.975]\n",
            "------------------------------------------------------------------------------------------\n",
            "const                     -0.0602      0.048     -1.261      0.209      -0.154       0.034\n",
            "doge_sentiment_score       1.7354      1.014      1.711      0.088      -0.262       3.733\n",
            "crypto_sentiment_score     0.0879      0.208      0.422      0.673      -0.322       0.498\n",
            "lagged_sentiment           0.8393      0.979      0.857      0.392      -1.089       2.768\n",
            "lagged_return_1            0.0705      0.066      1.070      0.286      -0.059       0.200\n",
            "lagged_return_2            0.0795      0.183      0.434      0.664      -0.281       0.440\n",
            "Return_btc                -0.3374      0.433     -0.780      0.436      -1.189       0.515\n",
            "Return_spy                 5.7952      2.182      2.656      0.008       1.496      10.094\n",
            "==============================================================================\n",
            "Omnibus:                      474.425   Durbin-Watson:                   1.957\n",
            "Prob(Omnibus):                  0.000   Jarque-Bera (JB):           232530.633\n",
            "Skew:                          10.994   Prob(JB):                         0.00\n",
            "Kurtosis:                     151.085   Cond. No.                         129.\n",
            "==============================================================================\n",
            "\n",
            "Notes:\n",
            "[1] Standard Errors assume that the covariance matrix of the errors is correctly specified.\n"
          ]
        }
      ]
    },
    {
      "cell_type": "code",
      "source": [
        "#regress\n",
        "y = everything_merged_df['Returns']\n",
        "X = everything_merged_df[['crypto_sentiment_score', 'lagged_return_1',\n",
        "                      'lagged_return_2', 'Return_btc']]\n",
        "\n",
        "# consonants\n",
        "X = sm.add_constant(X)\n",
        "\n",
        "# OLS model\n",
        "model = sm.OLS(y, X)\n",
        "results = model.fit()\n",
        "\n",
        "\n",
        "print(results.summary())"
      ],
      "metadata": {
        "colab": {
          "base_uri": "https://localhost:8080/"
        },
        "id": "_xakCONq0HYd",
        "outputId": "1e2e4c75-fcba-4249-f244-7cba349eccab"
      },
      "execution_count": null,
      "outputs": [
        {
          "output_type": "stream",
          "name": "stdout",
          "text": [
            "                            OLS Regression Results                            \n",
            "==============================================================================\n",
            "Dep. Variable:                Returns   R-squared:                       0.008\n",
            "Model:                            OLS   Adj. R-squared:                 -0.008\n",
            "Method:                 Least Squares   F-statistic:                    0.5142\n",
            "Date:                Sat, 21 Dec 2024   Prob (F-statistic):              0.725\n",
            "Time:                        01:32:35   Log-Likelihood:                -27.633\n",
            "No. Observations:                 249   AIC:                             65.27\n",
            "Df Residuals:                     244   BIC:                             82.85\n",
            "Df Model:                           4                                         \n",
            "Covariance Type:            nonrobust                                         \n",
            "==========================================================================================\n",
            "                             coef    std err          t      P>|t|      [0.025      0.975]\n",
            "------------------------------------------------------------------------------------------\n",
            "const                      0.0209      0.018      1.170      0.243      -0.014       0.056\n",
            "crypto_sentiment_score     0.1647      0.210      0.785      0.433      -0.249       0.578\n",
            "lagged_return_1            0.0617      0.066      0.942      0.347      -0.067       0.191\n",
            "lagged_return_2            0.1280      0.182      0.703      0.483      -0.231       0.487\n",
            "Return_btc                -0.1244      0.428     -0.291      0.772      -0.967       0.719\n",
            "==============================================================================\n",
            "Omnibus:                      489.374   Durbin-Watson:                   1.980\n",
            "Prob(Omnibus):                  0.000   Jarque-Bera (JB):           275595.754\n",
            "Skew:                          11.695   Prob(JB):                         0.00\n",
            "Kurtosis:                     164.296   Cond. No.                         24.8\n",
            "==============================================================================\n",
            "\n",
            "Notes:\n",
            "[1] Standard Errors assume that the covariance matrix of the errors is correctly specified.\n"
          ]
        }
      ]
    },
    {
      "cell_type": "code",
      "source": [
        "#regress\n",
        "y = everything_merged_df['Returns']\n",
        "X = everything_merged_df[['crypto_sentiment_score','lagged_return_1',\n",
        "                      'lagged_return_2', 'Return_btc', 'Return_spy']]\n",
        "\n",
        "# consonants\n",
        "X = sm.add_constant(X)\n",
        "\n",
        "# OLS model\n",
        "model = sm.OLS(y, X)\n",
        "results = model.fit()\n",
        "\n",
        "\n",
        "print(results.summary())"
      ],
      "metadata": {
        "colab": {
          "base_uri": "https://localhost:8080/"
        },
        "id": "r1dUaSev0NQC",
        "outputId": "fc591e0b-eff6-49e2-ab1d-2422391abbd8"
      },
      "execution_count": null,
      "outputs": [
        {
          "output_type": "stream",
          "name": "stdout",
          "text": [
            "                            OLS Regression Results                            \n",
            "==============================================================================\n",
            "Dep. Variable:                Returns   R-squared:                       0.032\n",
            "Model:                            OLS   Adj. R-squared:                  0.012\n",
            "Method:                 Least Squares   F-statistic:                     1.620\n",
            "Date:                Sat, 21 Dec 2024   Prob (F-statistic):              0.155\n",
            "Time:                        01:32:46   Log-Likelihood:                -24.597\n",
            "No. Observations:                 249   AIC:                             61.19\n",
            "Df Residuals:                     243   BIC:                             82.30\n",
            "Df Model:                           5                                         \n",
            "Covariance Type:            nonrobust                                         \n",
            "==========================================================================================\n",
            "                             coef    std err          t      P>|t|      [0.025      0.975]\n",
            "------------------------------------------------------------------------------------------\n",
            "const                      0.0258      0.018      1.453      0.148      -0.009       0.061\n",
            "crypto_sentiment_score     0.1276      0.208      0.612      0.541      -0.283       0.538\n",
            "lagged_return_1            0.0855      0.066      1.304      0.193      -0.044       0.215\n",
            "lagged_return_2            0.1275      0.180      0.707      0.480      -0.228       0.483\n",
            "Return_btc                -0.3529      0.434     -0.814      0.417      -1.207       0.502\n",
            "Return_spy                 5.3040      2.165      2.449      0.015       1.038       9.570\n",
            "==============================================================================\n",
            "Omnibus:                      477.172   Durbin-Watson:                   1.962\n",
            "Prob(Omnibus):                  0.000   Jarque-Bera (JB):           240387.418\n",
            "Skew:                          11.119   Prob(JB):                         0.00\n",
            "Kurtosis:                     153.583   Cond. No.                         127.\n",
            "==============================================================================\n",
            "\n",
            "Notes:\n",
            "[1] Standard Errors assume that the covariance matrix of the errors is correctly specified.\n"
          ]
        }
      ]
    }
  ],
  "metadata": {
    "colab": {
      "provenance": [],
      "include_colab_link": true
    },
    "kernelspec": {
      "display_name": "Python 3",
      "name": "python3"
    },
    "language_info": {
      "name": "python"
    }
  },
  "nbformat": 4,
  "nbformat_minor": 0
}